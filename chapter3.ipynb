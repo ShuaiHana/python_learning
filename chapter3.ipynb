{
 "cells": [
  {
   "cell_type": "markdown",
   "metadata": {},
   "source": [
    "# 第三章：魔法函数"
   ]
  },
  {
   "cell_type": "markdown",
   "metadata": {},
   "source": [
    "1、什么是魔法函数？"
   ]
  },
  {
   "cell_type": "code",
   "execution_count": 4,
   "metadata": {},
   "outputs": [
    {
     "name": "stdout",
     "output_type": "stream",
     "text": [
      "a\n",
      "b\n",
      "c\n"
     ]
    }
   ],
   "source": [
    "class Company(object):\n",
    "    def __init__(self, employeeList):\n",
    "        self.employee = employeeList\n",
    "\n",
    "comp = Company([\"a\",\"b\",\"c\"])\n",
    "for ee in comp.employee:\n",
    "    print(ee)"
   ]
  },
  {
   "cell_type": "code",
   "execution_count": 5,
   "metadata": {},
   "outputs": [],
   "source": [
    "# 以双下划线开头，以上下划线结尾的函数是魔法函数\n",
    "# 魔法函数是为了增强类的功能"
   ]
  },
  {
   "cell_type": "markdown",
   "metadata": {},
   "source": [
    "2、魔法函数影响了类的数据模型，从而影响了类的使用语法"
   ]
  },
  {
   "cell_type": "code",
   "execution_count": 11,
   "metadata": {},
   "outputs": [
    {
     "name": "stdout",
     "output_type": "stream",
     "text": [
      "a\n",
      "b\n",
      "c\n"
     ]
    }
   ],
   "source": [
    "class Company(object):\n",
    "    def __init__(self, employeeList):\n",
    "        self.employee = employeeList\n",
    "    \n",
    "    def __getitem__(self, index):\n",
    "        return self.employee[index]\n",
    "\n",
    "comp = Company([\"a\",\"b\",\"c\"])\n",
    "for ee in comp: #首先会看comp实例化的类Company有没有__getitem__这个函数\n",
    "                #如果没有，就会抛异常：Company不是可迭代对象\n",
    "                #如果有，就从0开始迭代，知道抛异常结束\n",
    "    print(ee)\n"
   ]
  },
  {
   "cell_type": "code",
   "execution_count": 17,
   "metadata": {},
   "outputs": [
    {
     "name": "stdout",
     "output_type": "stream",
     "text": [
      "2\n",
      "a\n",
      "b\n"
     ]
    }
   ],
   "source": [
    "# python语法会识别对象中已使用的魔法函数，且对魔法函数的识别和调用是隐式的\n",
    "# 添加__getitem__函数的对象可以拥有序列对象的使用语法特点\n",
    "comp1 = comp[:2]      #取切片语法\n",
    "print(len(comp1))     #求长语法：首先尝试调用__len__,没有的话退而求其次，调用__getitem__，再没有抛异常\n",
    "for ee in comp1: \n",
    "    print(ee)"
   ]
  },
  {
   "cell_type": "markdown",
   "metadata": {},
   "source": [
    "3、魔法函数一览"
   ]
  },
  {
   "cell_type": "code",
   "execution_count": 19,
   "metadata": {},
   "outputs": [
    {
     "name": "stdout",
     "output_type": "stream",
     "text": [
      "<__main__.Company object at 0x7facf829cdd8>\n"
     ]
    }
   ],
   "source": [
    "class Company1(object):\n",
    "    def __init__(self, employeeList):\n",
    "        self.employee = employeeList\n",
    "    \n",
    "    \n",
    "comp = Company([\"a\",\"b\",\"c\"])\n",
    "print(comp) #隐含地去调用__str__"
   ]
  },
  {
   "cell_type": "code",
   "execution_count": 21,
   "metadata": {},
   "outputs": [
    {
     "data": {
      "text/plain": [
       "<__main__.Company at 0x7facf822db00>"
      ]
     },
     "execution_count": 21,
     "metadata": {},
     "output_type": "execute_result"
    }
   ],
   "source": [
    "class Company2(object):\n",
    "    def __init__(self, employeeList):\n",
    "        self.employee = employeeList\n",
    "        \n",
    "    def __str__(self):\n",
    "        return ','.join(self.employee)\n",
    "    \n",
    "comp = Company2([\"a\",\"b\",\"c\"])\n",
    "comp   #交互式环境中会隐含调用__repr__"
   ]
  },
  {
   "cell_type": "code",
   "execution_count": 22,
   "metadata": {},
   "outputs": [
    {
     "name": "stdout",
     "output_type": "stream",
     "text": [
      "a,b,c\n"
     ]
    },
    {
     "data": {
      "text/plain": [
       "a,b,c"
      ]
     },
     "execution_count": 22,
     "metadata": {},
     "output_type": "execute_result"
    }
   ],
   "source": [
    "class Company3(object):\n",
    "    def __init__(self, employeeList):\n",
    "        self.employee = employeeList\n",
    "        \n",
    "    def __str__(self):\n",
    "        return ','.join(self.employee)\n",
    "    \n",
    "    def __repr__(self):\n",
    "        return ','.join(self.employee)\n",
    "    \n",
    "comp = Company3([\"a\",\"b\",\"c\"])\n",
    "print(comp) #隐含地去调用__str__\n",
    "comp   #交互式环境中会隐含调用__repr_"
   ]
  },
  {
   "cell_type": "markdown",
   "metadata": {},
   "source": [
    "注意：魔法函数与其所在类继承了什么类无关，任意一个类中定义了魔法函数，此类就具备了对应的语法特性"
   ]
  },
  {
   "cell_type": "markdown",
   "metadata": {},
   "source": [
    "魔法函数可分为数学运算类和非数学运算类\n",
    "非数学运算类较重要\n",
    "数学运算类魔法函数在不进行数值处理时很少用到"
   ]
  },
  {
   "cell_type": "markdown",
   "metadata": {},
   "source": [
    "4、__len__函数特殊性"
   ]
  },
  {
   "cell_type": "code",
   "execution_count": null,
   "metadata": {},
   "outputs": [],
   "source": [
    "len求list，set，dict时，使用cpython内部维护的对象的一个长度，所以，使用python时，使用原生类型非常快"
   ]
  }
 ],
 "metadata": {
  "kernelspec": {
   "display_name": "a3c",
   "language": "python",
   "name": "env_for_a3c"
  },
  "language_info": {
   "codemirror_mode": {
    "name": "ipython",
    "version": 3
   },
   "file_extension": ".py",
   "mimetype": "text/x-python",
   "name": "python",
   "nbconvert_exporter": "python",
   "pygments_lexer": "ipython3",
   "version": "3.6.3"
  }
 },
 "nbformat": 4,
 "nbformat_minor": 2
}
