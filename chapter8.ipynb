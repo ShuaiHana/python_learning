{
 "cells": [
  {
   "cell_type": "markdown",
   "metadata": {},
   "source": [
    "# 8 元类编程"
   ]
  },
  {
   "cell_type": "markdown",
   "metadata": {},
   "source": [
    "## 8.1 property动态属性"
   ]
  },
  {
   "cell_type": "code",
   "execution_count": 18,
   "metadata": {},
   "outputs": [],
   "source": [
    "class User:\n",
    "    def __init__(self, name, brithday):\n",
    "        self.name = name\n",
    "        self.brithday = brithday\n",
    "        \n",
    "    @property\n",
    "    def info(self):\n",
    "        return self.name+\" \"+self.brithday\n",
    "    \n",
    "    @info.setter\n",
    "    def info(self, value):\n",
    "        self.name = value\n",
    "        \n",
    "        \n"
   ]
  },
  {
   "cell_type": "code",
   "execution_count": 19,
   "metadata": {},
   "outputs": [
    {
     "data": {
      "text/plain": [
       "'a nba'"
      ]
     },
     "execution_count": 19,
     "metadata": {},
     "output_type": "execute_result"
    }
   ],
   "source": [
    "usera = User(name = \"a\", brithday=\"nba\")\n",
    "usera.info  # @property注解的方法可以直接当做属性来调用"
   ]
  },
  {
   "cell_type": "code",
   "execution_count": 20,
   "metadata": {},
   "outputs": [
    {
     "data": {
      "text/plain": [
       "'asd nba'"
      ]
     },
     "execution_count": 20,
     "metadata": {},
     "output_type": "execute_result"
    }
   ],
   "source": [
    "usera.info = \"asd\"  # @info.setter 可为@property注解的属性设置setter函数\n",
    "usera.info"
   ]
  },
  {
   "cell_type": "markdown",
   "metadata": {},
   "source": [
    "## 8.2 __getattr__与__getattribute__"
   ]
  },
  {
   "cell_type": "code",
   "execution_count": 21,
   "metadata": {},
   "outputs": [],
   "source": [
    "class User:\n",
    "    def __init__(self, name, brithday,info={}):\n",
    "        self.name = name\n",
    "        self.brithday = brithday\n",
    "        \n",
    "    def __getattr__(self, item):\n",
    "        print(\"not find attr\")"
   ]
  },
  {
   "cell_type": "code",
   "execution_count": 22,
   "metadata": {},
   "outputs": [
    {
     "name": "stdout",
     "output_type": "stream",
     "text": [
      "not find attr\n"
     ]
    }
   ],
   "source": [
    "usera = User(name = \"a\", brithday=\"nba\")\n",
    "usera.i   # 在找不到属性时会调用__getattr__"
   ]
  },
  {
   "cell_type": "code",
   "execution_count": 35,
   "metadata": {},
   "outputs": [],
   "source": [
    "class Users:\n",
    "    def __init__(self, name, brithday,infos={}):\n",
    "        self.name = name\n",
    "        self.brithday = brithday\n",
    "        self.infos=infos\n",
    "        \n",
    "    def __getattr__(self, item):\n",
    "        return self.infos[item]  #通过这种逻辑实现对dict类型的直接访问"
   ]
  },
  {
   "cell_type": "code",
   "execution_count": 36,
   "metadata": {},
   "outputs": [
    {
     "data": {
      "text/plain": [
       "'huawei'"
      ]
     },
     "execution_count": 36,
     "metadata": {},
     "output_type": "execute_result"
    }
   ],
   "source": [
    "usera = Users(name = \"a\", brithday=\"nba\", infos={\"company\":\"huawei\"})\n",
    "usera.company"
   ]
  },
  {
   "cell_type": "code",
   "execution_count": 37,
   "metadata": {},
   "outputs": [],
   "source": [
    "class Users:\n",
    "    def __init__(self, name, brithday,infos={}):\n",
    "        self.name = name\n",
    "        self.brithday = brithday\n",
    "        self.infos=infos\n",
    "        \n",
    "    def __getattr__(self, item):\n",
    "        return self.infos[item]\n",
    "    \n",
    "    def __getattribute__(self, item):  # 访问任意属性前都需要过一遍这个函数，编程者可以通过此把握程序访问的一切入口\n",
    "        return \"asdasd\""
   ]
  },
  {
   "cell_type": "markdown",
   "metadata": {},
   "source": [
    "## 8.3 属性描述符与属性查找过程"
   ]
  },
  {
   "cell_type": "code",
   "execution_count": 38,
   "metadata": {},
   "outputs": [],
   "source": [
    "import numbers\n",
    "class IntField:\n",
    "    # 数据描述符\n",
    "    def __get__(self, instance, owner):\n",
    "        return self.value\n",
    "        \n",
    "    def __set__(self, instance, value):\n",
    "        if not isinstance(value, numbers.Integral):\n",
    "            raise ValueError(\"int value is needed\")\n",
    "        #......其他参数检查\n",
    "        self.value = value\n",
    "        \n",
    "    def __delete__(self, instance):\n",
    "        pass\n",
    "    \n",
    "class User:\n",
    "    age = IntField()   # 以这种方式声明的属性，设置值时，调用IntField中 __set__ ，取值时调用IntField中__get__"
   ]
  },
  {
   "cell_type": "code",
   "execution_count": 41,
   "metadata": {},
   "outputs": [
    {
     "name": "stdout",
     "output_type": "stream",
     "text": [
      "30\n"
     ]
    }
   ],
   "source": [
    "usera = User()\n",
    "usera.age = 30\n",
    "print(usera.age)"
   ]
  },
  {
   "cell_type": "code",
   "execution_count": 42,
   "metadata": {},
   "outputs": [],
   "source": [
    "# 查找过程不看了，烦"
   ]
  },
  {
   "cell_type": "markdown",
   "metadata": {},
   "source": [
    "## 8.4 new和init区别"
   ]
  },
  {
   "cell_type": "code",
   "execution_count": 43,
   "metadata": {},
   "outputs": [],
   "source": [
    "class User:\n",
    "    def __new__(cls, *args, **kwargs):   #py2.4之后才有的，允许在创建实例前加逻辑\n",
    "        # 参数传进来的 是类，而非实例\n",
    "        # 第一个参数*arg接受用传值的方法传进的参数\n",
    "        # 第二个参数**kwargs接受用  参数名=参数值  方法传进的参数\n",
    "        return super().__new__(cls)  # 如果__new__方法不返回一个类，那么将不会调用init方法\n",
    "    \n",
    "    def __init__(self):  #__init__实在调用__new__，创建好对象后才调用的，用于给实例初始化的方法\n",
    "        pass"
   ]
  },
  {
   "cell_type": "markdown",
   "metadata": {},
   "source": [
    "## 8.5 自定义元类"
   ]
  },
  {
   "cell_type": "code",
   "execution_count": 46,
   "metadata": {},
   "outputs": [],
   "source": [
    "def create_class(name):  # 此函数可以通过字符串控制动态创建类\n",
    "    if name ==\"user\":\n",
    "        class User:\n",
    "            def __str__(self):\n",
    "                return \"user\"\n",
    "        return User\n",
    "    elif name ==\"company\":\n",
    "        class Company:\n",
    "            def __str__(self):\n",
    "                return \"company\"\n",
    "        return Company\n"
   ]
  },
  {
   "cell_type": "code",
   "execution_count": 48,
   "metadata": {},
   "outputs": [
    {
     "name": "stdout",
     "output_type": "stream",
     "text": [
      "user\n"
     ]
    }
   ],
   "source": [
    "MyClass = create_class(\"user\")\n",
    "my_obj = MyClass()\n",
    "print(my_obj)"
   ]
  },
  {
   "cell_type": "code",
   "execution_count": 49,
   "metadata": {},
   "outputs": [],
   "source": [
    "# type可以用于获取对象类型，也可以用于动态创建类\n",
    "\n",
    "def create_class(name):  # 此函数可以通过字符串控制动态创建类\n",
    "    if name ==\"user\":\n",
    "        return type(\"User\",(),{\"name\":\"user\"})  #第一个参数为类名（标识符），第二个参数此类的基类，第三个参数为初始化属性设置\n",
    "    elif name ==\"company\":\n",
    "        return type(\"User\",(),{})\n",
    "\n",
    "    "
   ]
  },
  {
   "cell_type": "code",
   "execution_count": 51,
   "metadata": {},
   "outputs": [
    {
     "name": "stdout",
     "output_type": "stream",
     "text": [
      "user\n"
     ]
    }
   ],
   "source": [
    "MyClass = create_class(\"user\")\n",
    "my_obj = MyClass()\n",
    "print(my_obj.name)"
   ]
  },
  {
   "cell_type": "code",
   "execution_count": 64,
   "metadata": {},
   "outputs": [
    {
     "data": {
      "text/plain": [
       "__main__.User"
      ]
     },
     "execution_count": 64,
     "metadata": {},
     "output_type": "execute_result"
    }
   ],
   "source": [
    "def say(self):\n",
    "    print(self.name)"
   ]
  },
  {
   "cell_type": "code",
   "execution_count": 66,
   "metadata": {},
   "outputs": [
    {
     "name": "stdout",
     "output_type": "stream",
     "text": [
      "user\n"
     ]
    }
   ],
   "source": [
    "User = type(\"User\",(),{\"name\":\"user\",\"say\":say})   # 通过这种方式为动态类添加方法\n",
    "my_obj = User()\n",
    "my_obj.say()"
   ]
  },
  {
   "cell_type": "code",
   "execution_count": 67,
   "metadata": {},
   "outputs": [],
   "source": [
    "class BaseClass:\n",
    "    def anwser(self):\n",
    "        return \"i am a god\"\n",
    "\n",
    "User =  type(\"User\",(BaseClass,),{\"name\":\"user\",\"say\":say}) # 通过这种方式继承\n"
   ]
  },
  {
   "cell_type": "code",
   "execution_count": 68,
   "metadata": {},
   "outputs": [
    {
     "name": "stdout",
     "output_type": "stream",
     "text": [
      "i am a god\n"
     ]
    }
   ],
   "source": [
    "my_obj = User()\n",
    "print(my_obj.anwser())"
   ]
  },
  {
   "cell_type": "code",
   "execution_count": 69,
   "metadata": {},
   "outputs": [],
   "source": [
    "# 什么是元类？\n",
    "# 元类是创建类的类，type就是一个元类\n",
    "class MateClass(type):   #自定义元类需要继承type\n",
    "    pass    \n",
    "\n",
    "class User(metaclass=MateClass):  # 传递metaclass参数表示使用自定义元类创建该类\n",
    "    pass"
   ]
  },
  {
   "cell_type": "markdown",
   "metadata": {},
   "source": [
    "## 8.6 元类实现orm（略）"
   ]
  },
  {
   "cell_type": "code",
   "execution_count": null,
   "metadata": {},
   "outputs": [],
   "source": []
  },
  {
   "cell_type": "code",
   "execution_count": null,
   "metadata": {},
   "outputs": [],
   "source": []
  },
  {
   "cell_type": "code",
   "execution_count": null,
   "metadata": {},
   "outputs": [],
   "source": []
  },
  {
   "cell_type": "code",
   "execution_count": null,
   "metadata": {},
   "outputs": [],
   "source": []
  },
  {
   "cell_type": "code",
   "execution_count": null,
   "metadata": {},
   "outputs": [],
   "source": []
  },
  {
   "cell_type": "code",
   "execution_count": null,
   "metadata": {},
   "outputs": [],
   "source": []
  },
  {
   "cell_type": "code",
   "execution_count": null,
   "metadata": {},
   "outputs": [],
   "source": []
  },
  {
   "cell_type": "code",
   "execution_count": null,
   "metadata": {},
   "outputs": [],
   "source": []
  },
  {
   "cell_type": "code",
   "execution_count": null,
   "metadata": {},
   "outputs": [],
   "source": []
  },
  {
   "cell_type": "code",
   "execution_count": null,
   "metadata": {},
   "outputs": [],
   "source": []
  },
  {
   "cell_type": "code",
   "execution_count": null,
   "metadata": {},
   "outputs": [],
   "source": []
  },
  {
   "cell_type": "code",
   "execution_count": null,
   "metadata": {},
   "outputs": [],
   "source": []
  },
  {
   "cell_type": "code",
   "execution_count": null,
   "metadata": {},
   "outputs": [],
   "source": []
  },
  {
   "cell_type": "code",
   "execution_count": null,
   "metadata": {},
   "outputs": [],
   "source": []
  },
  {
   "cell_type": "code",
   "execution_count": null,
   "metadata": {},
   "outputs": [],
   "source": []
  },
  {
   "cell_type": "code",
   "execution_count": null,
   "metadata": {},
   "outputs": [],
   "source": []
  },
  {
   "cell_type": "code",
   "execution_count": null,
   "metadata": {},
   "outputs": [],
   "source": []
  }
 ],
 "metadata": {
  "kernelspec": {
   "display_name": "a3c",
   "language": "python",
   "name": "env_for_a3c"
  },
  "language_info": {
   "codemirror_mode": {
    "name": "ipython",
    "version": 3
   },
   "file_extension": ".py",
   "mimetype": "text/x-python",
   "name": "python",
   "nbconvert_exporter": "python",
   "pygments_lexer": "ipython3",
   "version": "3.6.3"
  }
 },
 "nbformat": 4,
 "nbformat_minor": 2
}
