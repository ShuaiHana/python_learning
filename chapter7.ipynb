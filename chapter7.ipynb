{
 "cells": [
  {
   "cell_type": "markdown",
   "metadata": {},
   "source": [
    "# 7 对象引用，可变性与垃圾回收"
   ]
  },
  {
   "cell_type": "markdown",
   "metadata": {},
   "source": [
    "## 7.1 变量"
   ]
  },
  {
   "cell_type": "code",
   "execution_count": 1,
   "metadata": {},
   "outputs": [],
   "source": [
    "# python 的变量实际上是一个指针，指向的数据大小可能不同，但是指针本身大小相同\n",
    "# 可以把python中的变量比作便利贴\n",
    "a = 1  # 首先在内存中分配了一个int类型，然后将a贴到这个内存空间上\n",
    "# 这个过程是先生成对象，然后再贴便利贴"
   ]
  },
  {
   "cell_type": "code",
   "execution_count": 2,
   "metadata": {},
   "outputs": [
    {
     "name": "stdout",
     "output_type": "stream",
     "text": [
      "[1, 2, 3, 4]\n"
     ]
    }
   ],
   "source": [
    "# 根据以上特性\n",
    "a = [1, 2, 3]\n",
    "b = a\n",
    "b.append(4)\n",
    "print(a)           # b 和 a 实际上是贴在了同一个对象上"
   ]
  },
  {
   "cell_type": "code",
   "execution_count": 3,
   "metadata": {},
   "outputs": [
    {
     "name": "stdout",
     "output_type": "stream",
     "text": [
      "True\n",
      "140477799833352 140477799833352\n"
     ]
    }
   ],
   "source": [
    "print(a is b)      # is 用于判断两者是否为同一个对象(判断两则id是否相等)\n",
    "print(id(a), id(b))"
   ]
  },
  {
   "cell_type": "markdown",
   "metadata": {},
   "source": [
    "## 7.2 == 与 is"
   ]
  },
  {
   "cell_type": "code",
   "execution_count": 4,
   "metadata": {},
   "outputs": [
    {
     "name": "stdout",
     "output_type": "stream",
     "text": [
      "False\n",
      "True\n"
     ]
    }
   ],
   "source": [
    "a = [1, 2, 3, 4]\n",
    "b = [1, 2, 3, 4]\n",
    "print(a is b)\n",
    "print(a == b)     # ==是判断值是否相等; 通过调用__eq__魔法函数"
   ]
  },
  {
   "cell_type": "code",
   "execution_count": 5,
   "metadata": {},
   "outputs": [
    {
     "name": "stdout",
     "output_type": "stream",
     "text": [
      "True\n",
      "True\n",
      "4\n"
     ]
    }
   ],
   "source": [
    "a = 4\n",
    "b = 4\n",
    "print(a is b)\n",
    "print(a == b)    # python会将一定范围内的小整数建立为一个全局为1的对象\n",
    "b = b + 1\n",
    "print(a)"
   ]
  },
  {
   "cell_type": "code",
   "execution_count": 8,
   "metadata": {},
   "outputs": [
    {
     "name": "stdout",
     "output_type": "stream",
     "text": [
      "True\n",
      "True\n",
      "abc abcd\n"
     ]
    }
   ],
   "source": [
    "a = \"abc\"\n",
    "b = \"abc\"\n",
    "print(a is b)\n",
    "print(a == b)    # python会将一定范围内的小字符串建立为一个全局为1的对象\n",
    "b = b + \"d\"\n",
    "print(a,b)"
   ]
  },
  {
   "cell_type": "code",
   "execution_count": 9,
   "metadata": {},
   "outputs": [
    {
     "name": "stdout",
     "output_type": "stream",
     "text": [
      "True\n",
      "True\n"
     ]
    }
   ],
   "source": [
    "class Person:\n",
    "    pass\n",
    "\n",
    "person = Person()\n",
    "print(isinstance(person, Person))\n",
    "print(type(person) is Person)        # 两种判断对象是否为某一类的方法"
   ]
  },
  {
   "cell_type": "markdown",
   "metadata": {},
   "source": [
    "## 7.3 del与垃圾回收"
   ]
  },
  {
   "cell_type": "code",
   "execution_count": 10,
   "metadata": {},
   "outputs": [],
   "source": [
    "# python 中垃圾回收采用引用计数的方法\n",
    "a = 1    # 指向1的计数器为1\n",
    "b = a    # 指向1的计数器加1，此时为2\n",
    "del a    # 指向1的计数器减1，此时为1\n",
    "del b    # 减为0时，将1这个对象回收"
   ]
  },
  {
   "cell_type": "markdown",
   "metadata": {},
   "source": [
    "## 7.4 一个典型的传参错误"
   ]
  },
  {
   "cell_type": "code",
   "execution_count": 11,
   "metadata": {},
   "outputs": [
    {
     "name": "stdout",
     "output_type": "stream",
     "text": [
      "3 1 2\n",
      "[1, 2, 3, 4] [1, 2, 3, 4] [3, 4]\n",
      "(1, 2, 3, 4) (1, 2) (3, 4)\n"
     ]
    }
   ],
   "source": [
    "def add(a, b):\n",
    "    a += b\n",
    "    return a\n",
    "\n",
    "a = 1\n",
    "b = 2\n",
    "c = add(a, b)\n",
    "print(c, a, b)\n",
    "\n",
    "a = [1, 2]\n",
    "b = [3, 4]\n",
    "c = add(a, b)\n",
    "print(c, a, b)     # 当传入参数为list时，参数本身的值受到了影响\n",
    "\n",
    "a = (1, 2)\n",
    "b = (3, 4)\n",
    "c = add(a, b)\n",
    "print(c, a, b)\n",
    "\n",
    "#  传递list或dict对象到函数中时，参数值是很可能被改变的"
   ]
  },
  {
   "cell_type": "code",
   "execution_count": 22,
   "metadata": {},
   "outputs": [],
   "source": [
    "class Company:\n",
    "    def __init__(self, name, staffs=[]):\n",
    "        self.name = name\n",
    "        self.staffs = staffs\n",
    "        \n",
    "    def add(self, staff_name):\n",
    "        self.staffs.append(staff_name)\n",
    "        \n",
    "    def remove(self, staff_name):\n",
    "        self.staffs.remove(staff_name)"
   ]
  },
  {
   "cell_type": "code",
   "execution_count": 23,
   "metadata": {},
   "outputs": [
    {
     "name": "stdout",
     "output_type": "stream",
     "text": [
      "['a', 'c']\n"
     ]
    }
   ],
   "source": [
    "com = Company('com1', ['a', 'b'])      # 对象使用自定义值覆盖默认值时，此自定义值指向一个新对象\n",
    "com.add('c')\n",
    "com.remove('b')\n",
    "print(com.staffs)"
   ]
  },
  {
   "cell_type": "code",
   "execution_count": 24,
   "metadata": {},
   "outputs": [
    {
     "name": "stdout",
     "output_type": "stream",
     "text": [
      "['b']\n",
      "(['b'],)\n",
      "['b', 'c']\n",
      "['b', 'c']\n",
      "(['b', 'c'],)\n"
     ]
    }
   ],
   "source": [
    "com1 = Company('com11')\n",
    "com1.add(\"b\")\n",
    "print(com1.staffs)\n",
    "print(Company.__init__.__defaults__)   # 对象使用默认值时，默认的对象始终指向了一个（类变量？？）\n",
    "\n",
    "\n",
    "com2 = Company('com12')\n",
    "com2.add(\"c\")\n",
    "print(com1.staffs)\n",
    "print(com2.staffs)\n",
    "print(Company.__init__.__defaults__)"
   ]
  },
  {
   "cell_type": "code",
   "execution_count": 25,
   "metadata": {},
   "outputs": [
    {
     "name": "stdout",
     "output_type": "stream",
     "text": [
      "True\n"
     ]
    }
   ],
   "source": [
    "print(com1.staffs is com2.staffs)\n",
    "# 当参数设置为默认空的list时，两个不同的对象会共享一个变量"
   ]
  },
  {
   "cell_type": "markdown",
   "metadata": {},
   "source": [
    "结论：不要将list这种类型参数默认为空"
   ]
  },
  {
   "cell_type": "code",
   "execution_count": null,
   "metadata": {},
   "outputs": [],
   "source": []
  },
  {
   "cell_type": "code",
   "execution_count": null,
   "metadata": {},
   "outputs": [],
   "source": []
  },
  {
   "cell_type": "code",
   "execution_count": null,
   "metadata": {},
   "outputs": [],
   "source": []
  },
  {
   "cell_type": "code",
   "execution_count": null,
   "metadata": {},
   "outputs": [],
   "source": []
  },
  {
   "cell_type": "code",
   "execution_count": null,
   "metadata": {},
   "outputs": [],
   "source": []
  },
  {
   "cell_type": "code",
   "execution_count": null,
   "metadata": {},
   "outputs": [],
   "source": []
  },
  {
   "cell_type": "code",
   "execution_count": null,
   "metadata": {},
   "outputs": [],
   "source": []
  },
  {
   "cell_type": "code",
   "execution_count": null,
   "metadata": {},
   "outputs": [],
   "source": []
  },
  {
   "cell_type": "code",
   "execution_count": null,
   "metadata": {},
   "outputs": [],
   "source": []
  }
 ],
 "metadata": {
  "kernelspec": {
   "display_name": "a3c",
   "language": "python",
   "name": "env_for_a3c"
  },
  "language_info": {
   "codemirror_mode": {
    "name": "ipython",
    "version": 3
   },
   "file_extension": ".py",
   "mimetype": "text/x-python",
   "name": "python",
   "nbconvert_exporter": "python",
   "pygments_lexer": "ipython3",
   "version": "3.6.3"
  }
 },
 "nbformat": 4,
 "nbformat_minor": 2
}
