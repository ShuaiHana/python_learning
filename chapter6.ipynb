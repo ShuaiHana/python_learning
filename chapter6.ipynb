{
 "cells": [
  {
   "cell_type": "markdown",
   "metadata": {},
   "source": [
    "# 6 set 与 dict"
   ]
  },
  {
   "cell_type": "markdown",
   "metadata": {},
   "source": [
    "## 6.1、collection 中的 abc"
   ]
  },
  {
   "cell_type": "code",
   "execution_count": 5,
   "metadata": {},
   "outputs": [],
   "source": [
    "from collections.abc import Mapping, MutableMapping\n"
   ]
  },
  {
   "cell_type": "code",
   "execution_count": 6,
   "metadata": {},
   "outputs": [
    {
     "name": "stdout",
     "output_type": "stream",
     "text": [
      "True\n"
     ]
    }
   ],
   "source": [
    "# dict 属于 Mapping类型; 但是dict并非继承了MutableMapping，而是实现了其中的一部分方法\n",
    "print(isinstance(dict(), MutableMapping))"
   ]
  },
  {
   "cell_type": "markdown",
   "metadata": {},
   "source": [
    "## 6.2、dict常用操作"
   ]
  },
  {
   "cell_type": "code",
   "execution_count": 7,
   "metadata": {},
   "outputs": [
    {
     "name": "stdout",
     "output_type": "stream",
     "text": [
      "{}\n"
     ]
    }
   ],
   "source": [
    "# clear方法：清空dict\n",
    "a = {\"a\":{\"a1\":1}}\n",
    "a.clear()\n",
    "print(a)"
   ]
  },
  {
   "cell_type": "code",
   "execution_count": 8,
   "metadata": {},
   "outputs": [
    {
     "name": "stdout",
     "output_type": "stream",
     "text": [
      "{'a': {'a1': 2}}\n",
      "{'a': {'a1': 2}}\n"
     ]
    }
   ],
   "source": [
    "# copy 方法，返回浅拷贝\n",
    "a = {\"a\":{\"a1\":1}}\n",
    "new_a = a.copy()   # 即将new_a的指针直接只想a的内存\n",
    "new_a[\"a\"][\"a1\"] = 2\n",
    "print(a)\n",
    "print(new_a)"
   ]
  },
  {
   "cell_type": "code",
   "execution_count": 10,
   "metadata": {},
   "outputs": [
    {
     "name": "stdout",
     "output_type": "stream",
     "text": [
      "{'a': {'a1': 1}}\n",
      "{'a': {'a1': 2}}\n"
     ]
    }
   ],
   "source": [
    "# 深拷贝\n",
    "import copy\n",
    "a = {\"a\":{\"a1\":1}}\n",
    "new_a1 = copy.deepcopy(a)\n",
    "new_a1[\"a\"][\"a1\"] = 2\n",
    "print(a)\n",
    "print(new_a1)"
   ]
  },
  {
   "cell_type": "code",
   "execution_count": 12,
   "metadata": {},
   "outputs": [
    {
     "name": "stdout",
     "output_type": "stream",
     "text": [
      "{'a': {'a1': 1}, 'b': {'a1': 1}}\n"
     ]
    }
   ],
   "source": [
    "# fromkeys\n",
    "new_list = [\"a\", \"b\"]\n",
    "new_dict = dict.fromkeys(new_list, {\"a1\":1})\n",
    "print(new_dict)"
   ]
  },
  {
   "cell_type": "code",
   "execution_count": 13,
   "metadata": {},
   "outputs": [
    {
     "name": "stdout",
     "output_type": "stream",
     "text": [
      "0\n"
     ]
    }
   ],
   "source": [
    "# get方法\n",
    "# new_dict[\"c\"] 取不存在的键值时会抛异常\n",
    "print(new_dict.get(\"x\",0))  # get方法会找这个键，若不存在这个键，就取第二个参数的默认值"
   ]
  },
  {
   "cell_type": "code",
   "execution_count": 15,
   "metadata": {},
   "outputs": [
    {
     "name": "stdout",
     "output_type": "stream",
     "text": [
      "a {'a1': 1}\n",
      "b {'a1': 1}\n"
     ]
    }
   ],
   "source": [
    "# items\n",
    "# 返回key和value作为一个tuple\n",
    "for key, value in new_dict.items():\n",
    "    print(key, value)"
   ]
  },
  {
   "cell_type": "code",
   "execution_count": 16,
   "metadata": {},
   "outputs": [
    {
     "name": "stdout",
     "output_type": "stream",
     "text": [
      "adx\n",
      "{'a': {'a1': 1}, 'b': {'a1': 1}, 'bb': 'adx'}\n"
     ]
    }
   ],
   "source": [
    "# setdefault 如果键不存在于字典中，将会添加该键并将default的值设为该键的默认值，\n",
    "#   如果键存在于字典中，将读出该键原来对应的值，default的值不会覆盖原来已经存在的键的值。\n",
    "default_value = new_dict.setdefault(\"bb\", \"adx\")\n",
    "print(default_value)\n",
    "print(new_dict)"
   ]
  },
  {
   "cell_type": "code",
   "execution_count": 17,
   "metadata": {},
   "outputs": [
    {
     "name": "stdout",
     "output_type": "stream",
     "text": [
      "{'a': {'a1': 1}, 'b': {'b1': 2}}\n"
     ]
    }
   ],
   "source": [
    "# update 将一个可迭代对象添加到已有dict中\n",
    "a = {\"a\":{\"a1\":1}}\n",
    "a.update({\"b\":{\"b1\":2}})\n",
    "print(a)"
   ]
  },
  {
   "cell_type": "code",
   "execution_count": 18,
   "metadata": {},
   "outputs": [
    {
     "name": "stdout",
     "output_type": "stream",
     "text": [
      "{'a': {'a1': 1}, 'b': {'b1': 2}, 'c': {'c1': 3}, 'd': {'d1': 4}}\n"
     ]
    }
   ],
   "source": [
    "a.update(c={\"c1\":3}, d={\"d1\":4})\n",
    "print(a)"
   ]
  },
  {
   "cell_type": "code",
   "execution_count": 20,
   "metadata": {},
   "outputs": [
    {
     "name": "stdout",
     "output_type": "stream",
     "text": [
      "{'a': {'a1': 1}, 'b': {'b1': 2}, 'c': {'c1': 3}, 'd': {'d1': 4}, 'e': {'e1': 5}}\n"
     ]
    }
   ],
   "source": [
    "a.update([(\"e\",{\"e1\":5})])\n",
    "print(a)"
   ]
  },
  {
   "cell_type": "markdown",
   "metadata": {},
   "source": [
    "## 6.3、dict子类"
   ]
  },
  {
   "cell_type": "code",
   "execution_count": 21,
   "metadata": {},
   "outputs": [
    {
     "name": "stdout",
     "output_type": "stream",
     "text": [
      "{'one': 1}\n",
      "{'one': 2}\n"
     ]
    }
   ],
   "source": [
    "# 不建议继承list和dict\n",
    "# 有些时候，由C写的父类的方法在调用时，不会调用子类覆盖的方法\n",
    "class Mydict(dict):\n",
    "    def __setitem__(self, key, value):\n",
    "        super().__setitem__(key, value*2)\n",
    "\n",
    "my_dict = Mydict(one = 1)\n",
    "print(my_dict)\n",
    "my_dict[\"one\"] = 1\n",
    "print(my_dict)"
   ]
  },
  {
   "cell_type": "code",
   "execution_count": 23,
   "metadata": {},
   "outputs": [],
   "source": [
    "# 可以继承collections模块中的UserDict\n",
    "# UserDict 是用python语言模拟了dict中用C写的逻辑\n",
    "# 此时子类可以覆盖父类的方法\n",
    "from collections import UserDict\n",
    "class Mydict(UserDict):\n",
    "    def __setitem__(self, key, value):\n",
    "        super().__setitem__(key, value*2)"
   ]
  },
  {
   "cell_type": "code",
   "execution_count": 24,
   "metadata": {},
   "outputs": [
    {
     "name": "stdout",
     "output_type": "stream",
     "text": [
      "{'one': 2}\n",
      "{'one': 2}\n"
     ]
    }
   ],
   "source": [
    "my_dict = Mydict(one = 1)\n",
    "print(my_dict)\n",
    "my_dict[\"one\"] = 1\n",
    "print(my_dict)"
   ]
  },
  {
   "cell_type": "code",
   "execution_count": 25,
   "metadata": {},
   "outputs": [],
   "source": [
    "from collections import defaultdict"
   ]
  },
  {
   "cell_type": "code",
   "execution_count": 28,
   "metadata": {},
   "outputs": [
    {
     "name": "stdout",
     "output_type": "stream",
     "text": [
      "0\n"
     ]
    }
   ],
   "source": [
    "my_dict = defaultdict(int)  # 补充默认值\n",
    "print(my_dict[\"a\"])"
   ]
  },
  {
   "cell_type": "markdown",
   "metadata": {},
   "source": [
    "## 6.4、set和frozenset"
   ]
  },
  {
   "cell_type": "code",
   "execution_count": 30,
   "metadata": {},
   "outputs": [
    {
     "name": "stdout",
     "output_type": "stream",
     "text": [
      "{'b', 'd', 'c', 'a', 's'}\n",
      "frozenset({'a', 'd', 's'})\n"
     ]
    }
   ],
   "source": [
    "# set：集合   frozenset：不可变集合\n",
    "# set构造函数中接受可迭代类型\n",
    "s = set('abcddas')\n",
    "print(s)  # 顺序与添加顺序不一样，可用于去重\n",
    "# frozenset初始化方式与set相同 \n",
    "s = frozenset(\"asdasdasdasdas\")   #frozenset无add方法，其值不可改变\n",
    "print(s)"
   ]
  },
  {
   "cell_type": "code",
   "execution_count": 31,
   "metadata": {},
   "outputs": [
    {
     "name": "stdout",
     "output_type": "stream",
     "text": [
      "{'b', 'd', 'c', 'a', 'r', 's'}\n"
     ]
    }
   ],
   "source": [
    "# 向set添加数据\n",
    "s = set('abcddas')\n",
    "s.add('r')\n",
    "print(s)"
   ]
  },
  {
   "cell_type": "code",
   "execution_count": 32,
   "metadata": {},
   "outputs": [
    {
     "name": "stdout",
     "output_type": "stream",
     "text": [
      "{'asdghfd', 'b', 'd', 'c', 'a', 'r', 's'}\n"
     ]
    }
   ],
   "source": [
    "# 讲两个set合并为一个\n",
    "s1 = {\"asdghfd\"}\n",
    "s.update(s1)\n",
    "print(s)"
   ]
  },
  {
   "cell_type": "code",
   "execution_count": 34,
   "metadata": {},
   "outputs": [
    {
     "name": "stdout",
     "output_type": "stream",
     "text": [
      "{'c', 'asdghfd', 'b', 'r'}\n",
      "{'asdghfd', 'b', 'd', 'c', 'a', 'r', 's'}\n"
     ]
    }
   ],
   "source": [
    "# 求差集\n",
    "s1 = set('asdasd')\n",
    "res = s.difference(s1)  # 等价于res=s-s1\n",
    "print(res)\n",
    "print(s)                # 求完差集将结果返回给一个新的集合，并不改变原集合"
   ]
  },
  {
   "cell_type": "code",
   "execution_count": null,
   "metadata": {},
   "outputs": [],
   "source": []
  },
  {
   "cell_type": "code",
   "execution_count": null,
   "metadata": {},
   "outputs": [],
   "source": []
  },
  {
   "cell_type": "code",
   "execution_count": null,
   "metadata": {},
   "outputs": [],
   "source": []
  },
  {
   "cell_type": "code",
   "execution_count": null,
   "metadata": {},
   "outputs": [],
   "source": []
  },
  {
   "cell_type": "code",
   "execution_count": null,
   "metadata": {},
   "outputs": [],
   "source": []
  },
  {
   "cell_type": "code",
   "execution_count": null,
   "metadata": {},
   "outputs": [],
   "source": []
  },
  {
   "cell_type": "code",
   "execution_count": null,
   "metadata": {},
   "outputs": [],
   "source": []
  },
  {
   "cell_type": "code",
   "execution_count": null,
   "metadata": {},
   "outputs": [],
   "source": []
  },
  {
   "cell_type": "code",
   "execution_count": null,
   "metadata": {},
   "outputs": [],
   "source": []
  },
  {
   "cell_type": "code",
   "execution_count": null,
   "metadata": {},
   "outputs": [],
   "source": []
  },
  {
   "cell_type": "code",
   "execution_count": null,
   "metadata": {},
   "outputs": [],
   "source": []
  }
 ],
 "metadata": {
  "kernelspec": {
   "display_name": "a3c",
   "language": "python",
   "name": "env_for_a3c"
  },
  "language_info": {
   "codemirror_mode": {
    "name": "ipython",
    "version": 3
   },
   "file_extension": ".py",
   "mimetype": "text/x-python",
   "name": "python",
   "nbconvert_exporter": "python",
   "pygments_lexer": "ipython3",
   "version": "3.6.3"
  }
 },
 "nbformat": 4,
 "nbformat_minor": 2
}
