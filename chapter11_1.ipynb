{
 "cells": [
  {
   "cell_type": "markdown",
   "metadata": {},
   "source": [
    "# 11 多线程，多进程，线程池"
   ]
  },
  {
   "cell_type": "markdown",
   "metadata": {},
   "source": [
    "## 11.1 GIL"
   ]
  },
  {
   "cell_type": "code",
   "execution_count": 1,
   "metadata": {},
   "outputs": [
    {
     "name": "stdout",
     "output_type": "stream",
     "text": [
      "  6           0 LOAD_FAST                0 (a)\n",
      "              2 LOAD_CONST               1 (1)\n",
      "              4 BINARY_ADD\n",
      "              6 STORE_FAST               0 (a)\n",
      "\n",
      "  7           8 LOAD_FAST                0 (a)\n",
      "             10 RETURN_VALUE\n",
      "None\n"
     ]
    }
   ],
   "source": [
    "# GIL:globel interpreter lock (cpython) 全局解释器锁\n",
    "# python中的一个线程对应于C语言中的一个线程\n",
    "# GIL使得同一时刻只有一个线程运行在一个cpu上执行字节码,无法将多个线程映射到多个CPU上\n",
    "import dis\n",
    "def add(a):\n",
    "    a = a + 1\n",
    "    return a\n",
    "print(dis.dis(add))"
   ]
  },
  {
   "cell_type": "code",
   "execution_count": 2,
   "metadata": {},
   "outputs": [
    {
     "name": "stdout",
     "output_type": "stream",
     "text": [
      "-33888\n"
     ]
    }
   ],
   "source": [
    "total = 0\n",
    "def add():\n",
    "    global total\n",
    "    for i in range(1000000):\n",
    "        total += 1\n",
    "        \n",
    "def desc():\n",
    "    global total\n",
    "    for i in range(1000000):\n",
    "        total -= 1\n",
    "\n",
    "import threading\n",
    "threading1 = threading.Thread(target=add)\n",
    "threading2 = threading.Thread(target=desc)\n",
    "threading1.start()\n",
    "threading2.start()\n",
    "\n",
    "threading1.join()\n",
    "threading2.join() #等待完成\n",
    "print(total)"
   ]
  },
  {
   "cell_type": "markdown",
   "metadata": {},
   "source": [
    "GIL会在遇到io操作或者时间片消耗完时释放锁"
   ]
  },
  {
   "cell_type": "markdown",
   "metadata": {},
   "source": [
    "## 11.2 多线程编程"
   ]
  },
  {
   "cell_type": "code",
   "execution_count": 3,
   "metadata": {},
   "outputs": [
    {
     "name": "stdout",
     "output_type": "stream",
     "text": [
      "get detail html startedget detail url started\n",
      "\n",
      "get detail html end\n",
      "get detail url end\n",
      "last time:2.0044353008270264\n"
     ]
    }
   ],
   "source": [
    "# 线程是操作系统能切换调度的最小单元\n",
    "# 线程依赖于进程\n",
    "# 对于多IO操作来说，多线程与多进程性能差别不大\n",
    "import time\n",
    "\n",
    "def get_detail_html(url):\n",
    "    print(\"get detail html started\")\n",
    "    time.sleep(2)\n",
    "    print(\"get detail html end\")\n",
    "\n",
    "def get_detail_url(url):\n",
    "    print(\"get detail url started\")\n",
    "    time.sleep(2)\n",
    "    print(\"get detail url end\")\n",
    "\n",
    "import threading\n",
    "\n",
    "threading1 = threading.Thread(target=get_detail_html,args=(\"\",))\n",
    "threading2 = threading.Thread(target=get_detail_url,args=(\"\",))\n",
    "threading1.setDaemon(True)\n",
    "threading2.setDaemon(True)  # 设置为守护线程，则主线程完成后杀掉此线程\n",
    "start_time = time.time()\n",
    "threading1.start()\n",
    "threading2.start()  # 此时有三个线程，分别是创建的两个线程和主线程\n",
    "threading1.join()\n",
    "threading2.join()   # join是使主线程等待该线程，否则主线程可以先执行完\n",
    "print(\"last time:{}\".format(time.time()-start_time))"
   ]
  },
  {
   "cell_type": "code",
   "execution_count": 4,
   "metadata": {},
   "outputs": [],
   "source": [
    "# 也可以通过继承Thread实现多线程\n",
    "class GetDetailHtml(threading.Thread):\n",
    "    def __init__(self,name):\n",
    "        super().__init__(name = name)\n",
    "        \n",
    "        \n",
    "    \n",
    "    def run(self):\n",
    "        print(\"get detail html started\")\n",
    "        time.sleep(2)\n",
    "        print(\"get detail html end\")\n",
    "        \n",
    "\n",
    "class GetDetailUrl(threading.Thread):\n",
    "    \n",
    "    def __init__(self,name):\n",
    "        super().__init__(name = name)\n",
    "        \n",
    "    def run(self):\n",
    "        print(\"get detail url started\")\n",
    "        time.sleep(2)\n",
    "        print(\"get detail url end\")"
   ]
  },
  {
   "cell_type": "code",
   "execution_count": 5,
   "metadata": {},
   "outputs": [
    {
     "name": "stdout",
     "output_type": "stream",
     "text": [
      "get detail html started\n",
      "get detail url started\n",
      "get detail html end\n",
      "get detail url end\n",
      "last time:2.0055091381073\n"
     ]
    }
   ],
   "source": [
    "thread1 = GetDetailHtml(\"get_detail_html\")\n",
    "thread2 = GetDetailUrl(\"get_detail_url\")\n",
    "start_time = time.time()\n",
    "thread1.start()\n",
    "thread2.start()\n",
    "thread1.join()\n",
    "thread2.join()\n",
    "print(\"last time:{}\".format(time.time()-start_time))"
   ]
  },
  {
   "cell_type": "markdown",
   "metadata": {},
   "source": [
    "## 11.3 线程间通信"
   ]
  },
  {
   "cell_type": "markdown",
   "metadata": {},
   "source": [
    "线程间通信方式：\n",
    "\n",
    "1、共享变量"
   ]
  },
  {
   "cell_type": "code",
   "execution_count": 19,
   "metadata": {},
   "outputs": [],
   "source": [
    "detail_list = []\n",
    "\n",
    "def get_detail_html(detail_list):\n",
    "    #爬取文章详情页\n",
    "    for url in detail_list:   # 这样设计时不合理的，因为详情页比列表页处理慢，用一个单独的线程处理会拖累整体速度\n",
    "        print(\"get detail html started\")\n",
    "        time.sleep(2)\n",
    "        print(\"get detail html end\")\n",
    "    \n",
    "    \n",
    "def get_detail_url(detail_list):\n",
    "    #爬取文章列表页\n",
    "    print(\"get detail url started\")\n",
    "    while True:\n",
    "        time.sleep(2)\n",
    "        for i in range(20):  # 一次性解析二十条\n",
    "            detail_list.append(\"http://projectend.com/{id}\".format(id=i))\n",
    "        if len(detail_list)>19:\n",
    "            break\n",
    "    print(\"get detail url end\")\n",
    "\n",
    "    \n",
    "def get_detail_html2(detail_list):\n",
    "    # 爬取文章详情页,每次调用方法爬取一次\n",
    "    while True:\n",
    "        if len(detail_list):\n",
    "            url = detail_list.pop()   # 但是pop不是线程安全的\n",
    "            print(url)\n",
    "            # print(\"get detail html started\")\n",
    "            time.sleep(2)\n",
    "            # print(\"get detail html end\")"
   ]
  },
  {
   "cell_type": "code",
   "execution_count": 20,
   "metadata": {},
   "outputs": [
    {
     "name": "stdout",
     "output_type": "stream",
     "text": [
      "get detail url started\n",
      "get detail url endhttp://projectend.com/19http://projectend.com/18http://projectend.com/17http://projectend.com/16http://projectend.com/15http://projectend.com/14\n",
      "\n",
      "\n",
      "\n",
      "\n",
      "\n",
      "http://projectend.com/13http://projectend.com/12http://projectend.com/11http://projectend.com/7\n",
      "\n",
      "http://projectend.com/9\n",
      "http://projectend.com/10http://projectend.com/8\n",
      "\n",
      "\n",
      "\n",
      "http://projectend.com/6http://projectend.com/5http://projectend.com/4http://projectend.com/3\n",
      "\n",
      "\n",
      "\n",
      "\n",
      "http://projectend.com/2http://projectend.com/1\n",
      "\n",
      "http://projectend.com/0\n"
     ]
    }
   ],
   "source": [
    "thread_detail_url = threading.Thread(target=get_detail_url,args=(detail_list,))\n",
    "for i in range(10):\n",
    "    html_thead = threading.Thread(target=get_detail_html2,args=(detail_list,))\n",
    "    html_thead.start()\n",
    "thread_detail_url.start()"
   ]
  },
  {
   "cell_type": "markdown",
   "metadata": {},
   "source": [
    "小技巧：可以将共享的变量移到一个py文件中统一管理\n",
    "\n",
    "但是，这种情况下不要使用（from 文件夹.文件 import 变量）这种方式，因为这样别的线程修改变量对这个线程是不可见的"
   ]
  },
  {
   "cell_type": "markdown",
   "metadata": {},
   "source": [
    "2、通过queue来同步"
   ]
  },
  {
   "cell_type": "code",
   "execution_count": 28,
   "metadata": {},
   "outputs": [],
   "source": [
    "\n",
    "def get_detail_url(queue):\n",
    "    #爬取文章列表页\n",
    "    print(\"get detail url started\")\n",
    "    while True:\n",
    "        time.sleep(2)\n",
    "        for i in range(20):  # 一次性解析二十条\n",
    "            queue.put(\"http://projectend.com/{id}\".format(id=i))\n",
    "        # queue.qsize()\n",
    "        # queue.empty()\n",
    "        # queue.full()\n",
    "        # queue.put_nowait()\n",
    "        # queue.get_nowait()\n",
    "        # queue.task_down()      # 给queue一个任务完成的信号\n",
    "        # queue.join()           # queue阻塞主线程，直到收到taskdone信号\n",
    "        break\n",
    "    print(\"get detail url end\")\n",
    "\n",
    "    \n",
    "def get_detail_html2(queue):\n",
    "    # 爬取文章详情页,每次调用方法爬取一次\n",
    "    while True:\n",
    "    \n",
    "        url = queue.get()   # get是阻塞的，当queue为空，阻塞线程\n",
    "        print(url)\n",
    "        # print(\"get detail html started\")\n",
    "        time.sleep(2)\n",
    "        # print(\"get detail html end\")"
   ]
  },
  {
   "cell_type": "code",
   "execution_count": 29,
   "metadata": {},
   "outputs": [
    {
     "name": "stdout",
     "output_type": "stream",
     "text": [
      "get detail url started\n",
      "get detail url endhttp://projectend.com/0http://projectend.com/1http://projectend.com/2http://projectend.com/3http://projectend.com/4http://projectend.com/5http://projectend.com/8http://projectend.com/10http://projectend.com/6\n",
      "\n",
      "\n",
      "\n",
      "\n",
      "\n",
      "\n",
      "\n",
      "\n",
      "\n",
      "http://projectend.com/14\n",
      "http://projectend.com/17http://projectend.com/7http://projectend.com/9http://projectend.com/11http://projectend.com/12http://projectend.com/13\n",
      "\n",
      "\n",
      "\n",
      "\n",
      "http://projectend.com/19http://projectend.com/16\n",
      "\n",
      "http://projectend.com/15http://projectend.com/18\n",
      "\n",
      "\n"
     ]
    }
   ],
   "source": [
    "import queue\n",
    "detail_url_queue = queue.Queue(maxsize=1000)\n",
    "thread_detail_url = threading.Thread(target=get_detail_url,args=(detail_url_queue,))\n",
    "for i in range(10):\n",
    "    html_thead = threading.Thread(target=get_detail_html2,args=(detail_url_queue,))\n",
    "    html_thead.start()\n",
    "thread_detail_url.start()"
   ]
  },
  {
   "cell_type": "code",
   "execution_count": null,
   "metadata": {},
   "outputs": [],
   "source": []
  },
  {
   "cell_type": "code",
   "execution_count": null,
   "metadata": {},
   "outputs": [],
   "source": []
  },
  {
   "cell_type": "code",
   "execution_count": null,
   "metadata": {},
   "outputs": [],
   "source": []
  },
  {
   "cell_type": "code",
   "execution_count": null,
   "metadata": {},
   "outputs": [],
   "source": []
  },
  {
   "cell_type": "code",
   "execution_count": null,
   "metadata": {},
   "outputs": [],
   "source": []
  },
  {
   "cell_type": "code",
   "execution_count": null,
   "metadata": {},
   "outputs": [],
   "source": []
  },
  {
   "cell_type": "code",
   "execution_count": null,
   "metadata": {},
   "outputs": [],
   "source": []
  },
  {
   "cell_type": "code",
   "execution_count": null,
   "metadata": {},
   "outputs": [],
   "source": []
  },
  {
   "cell_type": "code",
   "execution_count": null,
   "metadata": {},
   "outputs": [],
   "source": []
  },
  {
   "cell_type": "code",
   "execution_count": null,
   "metadata": {},
   "outputs": [],
   "source": []
  },
  {
   "cell_type": "code",
   "execution_count": null,
   "metadata": {},
   "outputs": [],
   "source": []
  },
  {
   "cell_type": "code",
   "execution_count": null,
   "metadata": {},
   "outputs": [],
   "source": []
  },
  {
   "cell_type": "code",
   "execution_count": null,
   "metadata": {},
   "outputs": [],
   "source": []
  },
  {
   "cell_type": "code",
   "execution_count": null,
   "metadata": {},
   "outputs": [],
   "source": []
  },
  {
   "cell_type": "code",
   "execution_count": null,
   "metadata": {},
   "outputs": [],
   "source": []
  },
  {
   "cell_type": "code",
   "execution_count": null,
   "metadata": {},
   "outputs": [],
   "source": []
  },
  {
   "cell_type": "code",
   "execution_count": null,
   "metadata": {},
   "outputs": [],
   "source": []
  },
  {
   "cell_type": "code",
   "execution_count": null,
   "metadata": {},
   "outputs": [],
   "source": []
  }
 ],
 "metadata": {
  "kernelspec": {
   "display_name": "a3c",
   "language": "python",
   "name": "env_for_a3c"
  },
  "language_info": {
   "codemirror_mode": {
    "name": "ipython",
    "version": 3
   },
   "file_extension": ".py",
   "mimetype": "text/x-python",
   "name": "python",
   "nbconvert_exporter": "python",
   "pygments_lexer": "ipython3",
   "version": "3.6.3"
  }
 },
 "nbformat": 4,
 "nbformat_minor": 2
}
