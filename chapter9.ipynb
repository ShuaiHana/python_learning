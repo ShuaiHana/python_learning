{
 "cells": [
  {
   "cell_type": "markdown",
   "metadata": {},
   "source": [
    "# 9 迭代器和生成器"
   ]
  },
  {
   "cell_type": "markdown",
   "metadata": {},
   "source": [
    "## 9.1 迭代协议"
   ]
  },
  {
   "cell_type": "code",
   "execution_count": 2,
   "metadata": {},
   "outputs": [
    {
     "name": "stdout",
     "output_type": "stream",
     "text": [
      "True\n",
      "False\n"
     ]
    }
   ],
   "source": [
    "# 什么是迭代协议？\n",
    "# 什么是迭代器？\n",
    "# 迭代器是访问集合类元素的一种方式，用于遍历数据。\n",
    "# 迭代器与以下标为访问的方式不同，迭代器不能回访，只能一条一条的访问数据\n",
    "# 迭代器提供了惰性访问数据的方式\n",
    "# [] 是__getitem__\n",
    "# 迭代器 是 __iter__（返回迭代器）和__next__（返回下一条数据）\n",
    "# list是实现了__iter__，所以说它是可迭代的类型但并不是一个迭代器\n",
    "from collections.abc import Iterable,Iterator\n",
    "a = [1, 2]\n",
    "print(isinstance(a, Iterable))\n",
    "print(isinstance(a, Iterator))"
   ]
  },
  {
   "cell_type": "markdown",
   "metadata": {},
   "source": [
    "## 9.2 迭代器和迭代对象"
   ]
  },
  {
   "cell_type": "code",
   "execution_count": 3,
   "metadata": {},
   "outputs": [
    {
     "name": "stdout",
     "output_type": "stream",
     "text": [
      "True\n"
     ]
    }
   ],
   "source": [
    "iterator = iter(a)\n",
    "print(isinstance(iterator, Iterator)) # list中的iter可返回一个iterator"
   ]
  },
  {
   "cell_type": "code",
   "execution_count": 4,
   "metadata": {},
   "outputs": [
    {
     "name": "stdout",
     "output_type": "stream",
     "text": [
      "a\n",
      "b\n",
      "c\n"
     ]
    }
   ],
   "source": [
    "class Company:\n",
    "    def __init__(self, employee_list):\n",
    "        self.employee_list = employee_list\n",
    "        \n",
    "    def __getitem__(self, item):\n",
    "        return self.employee_list[item]\n",
    "    \n",
    "    \n",
    "    def __len__(self):\n",
    "        return len(self.employee_list)\n",
    "    \n",
    "company = Company(['a','b','c'])\n",
    "for a in company:\n",
    "    print(a)"
   ]
  },
  {
   "cell_type": "markdown",
   "metadata": {},
   "source": [
    "调用for循环时，先尝试（对：后的类）调用__iter__方法，若其没有实现__iter__方法，\n",
    "\n",
    "则会默认创建一个迭代器，且利用__getitem__进行迭代，此时一定是从0开始迭代"
   ]
  },
  {
   "cell_type": "code",
   "execution_count": 27,
   "metadata": {},
   "outputs": [],
   "source": [
    "class MyIterator:\n",
    "    def __init__(self, iter_list):\n",
    "        self.iter_list = iter_list\n",
    "        self.index = 0\n",
    "    \n",
    "    def __iter__(self):\n",
    "        return self\n",
    "    \n",
    "    def __next__(self):\n",
    "        # 真正返回迭代值的逻辑\n",
    "        try:\n",
    "            word = self.iter_list[self.index]\n",
    "        except IndexError:\n",
    "            raise StopIteration\n",
    "        self.index += 1\n",
    "        return word"
   ]
  },
  {
   "cell_type": "code",
   "execution_count": 28,
   "metadata": {},
   "outputs": [],
   "source": [
    "class Company:\n",
    "    def __init__(self, employee_list):\n",
    "        self.employee_list = employee_list\n",
    "        \n",
    "    def __iter__(self):\n",
    "        return MyIterator(self.employee_list)"
   ]
  },
  {
   "cell_type": "code",
   "execution_count": 29,
   "metadata": {},
   "outputs": [
    {
     "name": "stdout",
     "output_type": "stream",
     "text": [
      "a\n",
      "b\n",
      "c\n"
     ]
    }
   ],
   "source": [
    "company = Company(['a','b','c'])\n",
    "for a in company:\n",
    "    print(a)"
   ]
  },
  {
   "cell_type": "markdown",
   "metadata": {},
   "source": [
    "## 9.3 生成器函数"
   ]
  },
  {
   "cell_type": "code",
   "execution_count": 32,
   "metadata": {},
   "outputs": [
    {
     "name": "stdout",
     "output_type": "stream",
     "text": [
      "<generator object gen_func at 0x7f0528151518>\n",
      "1\n"
     ]
    }
   ],
   "source": [
    "# 函数中只要存在yield就是声称其函数\n",
    "def gen_func():  # 一但调用生成器函数，返回的就是生成器对象\n",
    "    yield 1\n",
    "\n",
    "def func():\n",
    "    return 1\n",
    "    \n",
    "\n",
    "# 返回生成器对象，且是在python编译字节码时就产生了\n",
    "gen = gen_func()\n",
    "print(gen)\n",
    "g = func()\n",
    "print(g)"
   ]
  },
  {
   "cell_type": "code",
   "execution_count": 33,
   "metadata": {},
   "outputs": [
    {
     "name": "stdout",
     "output_type": "stream",
     "text": [
      "1\n"
     ]
    }
   ],
   "source": [
    "# 生成器对象是实现了迭代器的魔法函数的，所以要想取生成器对象的值，for循环即可\n",
    "for i in gen:\n",
    "    print(i)"
   ]
  },
  {
   "cell_type": "markdown",
   "metadata": {},
   "source": [
    "__普通函数至多return一次，生成器对象可以yield多次,可以基于此做惰性求值"
   ]
  },
  {
   "cell_type": "code",
   "execution_count": 36,
   "metadata": {},
   "outputs": [],
   "source": [
    "def fib(index):  # 返回值\n",
    "    if index<=2:\n",
    "        return 1\n",
    "    else:\n",
    "        return fid(index-1)+fib(index-2)\n",
    "    \n",
    "def fib2(index): # 返回数列\n",
    "    re_list = []\n",
    "    n, a, b = 0, 0, 1;\n",
    "    while n<index:\n",
    "        re_list.append(b)\n",
    "        a,b = b,a+b\n",
    "        n += 1\n",
    "    return re_list   # 但是当index非常大的时候，re_list十分消耗内存，使用yield不消耗内存\n",
    "\n",
    "def gen_fib(index):\n",
    "    n, a, b = 0, 0, 1;\n",
    "    while n<index:\n",
    "        yield b\n",
    "        a,b = b,a+b\n",
    "        n += 1\n",
    "    "
   ]
  },
  {
   "cell_type": "code",
   "execution_count": 37,
   "metadata": {},
   "outputs": [
    {
     "name": "stdout",
     "output_type": "stream",
     "text": [
      "1\n",
      "1\n",
      "2\n",
      "3\n",
      "5\n",
      "8\n",
      "13\n",
      "21\n",
      "34\n",
      "55\n"
     ]
    }
   ],
   "source": [
    "for data in gen_fib(10):\n",
    "    print(data)"
   ]
  },
  {
   "cell_type": "markdown",
   "metadata": {},
   "source": [
    "## 9.4 生成器原理"
   ]
  },
  {
   "cell_type": "code",
   "execution_count": 38,
   "metadata": {},
   "outputs": [],
   "source": [
    "# 略"
   ]
  },
  {
   "cell_type": "markdown",
   "metadata": {},
   "source": [
    "## 9.5 UserList"
   ]
  },
  {
   "cell_type": "code",
   "execution_count": 39,
   "metadata": {},
   "outputs": [],
   "source": [
    "# 略"
   ]
  },
  {
   "cell_type": "code",
   "execution_count": null,
   "metadata": {},
   "outputs": [],
   "source": []
  },
  {
   "cell_type": "code",
   "execution_count": null,
   "metadata": {},
   "outputs": [],
   "source": []
  },
  {
   "cell_type": "code",
   "execution_count": null,
   "metadata": {},
   "outputs": [],
   "source": []
  },
  {
   "cell_type": "code",
   "execution_count": null,
   "metadata": {},
   "outputs": [],
   "source": []
  },
  {
   "cell_type": "code",
   "execution_count": null,
   "metadata": {},
   "outputs": [],
   "source": []
  },
  {
   "cell_type": "code",
   "execution_count": null,
   "metadata": {},
   "outputs": [],
   "source": []
  },
  {
   "cell_type": "code",
   "execution_count": null,
   "metadata": {},
   "outputs": [],
   "source": []
  },
  {
   "cell_type": "code",
   "execution_count": null,
   "metadata": {},
   "outputs": [],
   "source": []
  },
  {
   "cell_type": "code",
   "execution_count": null,
   "metadata": {},
   "outputs": [],
   "source": []
  }
 ],
 "metadata": {
  "kernelspec": {
   "display_name": "a3c",
   "language": "python",
   "name": "env_for_a3c"
  },
  "language_info": {
   "codemirror_mode": {
    "name": "ipython",
    "version": 3
   },
   "file_extension": ".py",
   "mimetype": "text/x-python",
   "name": "python",
   "nbconvert_exporter": "python",
   "pygments_lexer": "ipython3",
   "version": "3.6.3"
  }
 },
 "nbformat": 4,
 "nbformat_minor": 2
}
