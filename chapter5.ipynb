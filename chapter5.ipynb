{
 "cells": [
  {
   "cell_type": "markdown",
   "metadata": {},
   "source": [
    "# 5、自定义序列类"
   ]
  },
  {
   "cell_type": "markdown",
   "metadata": {},
   "source": [
    "## 5.1、序列类型分类"
   ]
  },
  {
   "cell_type": "markdown",
   "metadata": {},
   "source": [
    "存储类型：容器序列，扁平序列\n",
    "\n",
    "--容器序列：可存放任意类型的数据  list tuple deque\n",
    "\n",
    "--扁平序列：需要存放同一种数据类型 str  bytes  bytearray  array.array\n",
    "\n",
    "\n",
    "序列可变性：可变序列，不可变序列\n",
    "\n",
    "--可变序列：list  deque  bytearray  array\n",
    "\n",
    "--不可变：str  tuple  bytes"
   ]
  },
  {
   "cell_type": "markdown",
   "metadata": {},
   "source": [
    "## 5.2、序列类型协议"
   ]
  },
  {
   "cell_type": "code",
   "execution_count": 1,
   "metadata": {},
   "outputs": [],
   "source": [
    "from collections import abc #序列抽象积累"
   ]
  },
  {
   "cell_type": "markdown",
   "metadata": {},
   "source": [
    "## 5.3、序列+ += extend使用场景以及区别"
   ]
  },
  {
   "cell_type": "code",
   "execution_count": 2,
   "metadata": {},
   "outputs": [
    {
     "name": "stdout",
     "output_type": "stream",
     "text": [
      "[1, 2, 3, 4]\n"
     ]
    }
   ],
   "source": [
    "a = [1,2]\n",
    "c = a + [3, 4]\n",
    "print(c)"
   ]
  },
  {
   "cell_type": "code",
   "execution_count": 3,
   "metadata": {},
   "outputs": [
    {
     "name": "stdout",
     "output_type": "stream",
     "text": [
      "[1, 2, 3, 4]\n"
     ]
    }
   ],
   "source": [
    "a += [3, 4]\n",
    "print(a)"
   ]
  },
  {
   "cell_type": "code",
   "execution_count": 4,
   "metadata": {},
   "outputs": [
    {
     "name": "stdout",
     "output_type": "stream",
     "text": [
      "[1, 2, 3, 4, 3, 4]\n"
     ]
    }
   ],
   "source": [
    "a += (3, 4)\n",
    "print(a)"
   ]
  },
  {
   "cell_type": "markdown",
   "metadata": {},
   "source": [
    "+= 后可以接任意序列类型"
   ]
  },
  {
   "cell_type": "code",
   "execution_count": 5,
   "metadata": {},
   "outputs": [
    {
     "name": "stdout",
     "output_type": "stream",
     "text": [
      "[1, 2, 3, 4, 3, 4, 0, 1, 2]\n"
     ]
    }
   ],
   "source": [
    "a.extend(range(3))   # extend 无返回值，直接修改a\n",
    "print(a)"
   ]
  },
  {
   "cell_type": "code",
   "execution_count": 6,
   "metadata": {},
   "outputs": [
    {
     "name": "stdout",
     "output_type": "stream",
     "text": [
      "[1, 2, 3, 4, 3, 4, 0, 1, 2, range(0, 3)]\n"
     ]
    }
   ],
   "source": [
    "a.append(range(3))   # append讲数组作为一个值加入，而不是迭代加入\n",
    "print(a)"
   ]
  },
  {
   "cell_type": "markdown",
   "metadata": {},
   "source": [
    "## 5.4、可切片对象"
   ]
  },
  {
   "cell_type": "code",
   "execution_count": 7,
   "metadata": {},
   "outputs": [
    {
     "name": "stdout",
     "output_type": "stream",
     "text": [
      "[0, 1, 2, 3, 4, 5, 6, 7, 8, 9]\n"
     ]
    }
   ],
   "source": [
    "# 模式：(start:end:step)\n",
    "\"\"\"\n",
    "    start表示切片开始的位置，默认为0\n",
    "    end表示切片结束的位置，默认为list大小\n",
    "    step表切片的步长，默认为1\n",
    "    当start为0时可以省略，当end为list结束位置时可省略\n",
    "    step为1时可省略，同时可省略最后一个冒号\n",
    "    step为负数时表示反向切片，这时start值需要比end大\n",
    "    *切片操作会返回新列表，而不会修改原列表\n",
    "\"\"\"\n",
    "a = []\n",
    "a.extend(range(10))\n",
    "print(a)"
   ]
  },
  {
   "cell_type": "code",
   "execution_count": 8,
   "metadata": {},
   "outputs": [
    {
     "data": {
      "text/plain": [
       "[]"
      ]
     },
     "execution_count": 8,
     "metadata": {},
     "output_type": "execute_result"
    }
   ],
   "source": [
    "# 操作示例\n",
    "a[::] # 返回包含所有元素的新列表\n",
    "a[::-1]  # 返回原列表的逆序表\n",
    "a[::2] # 返回角标为偶数的列表\n",
    "a[1::2] # 返回角标为奇数的列表\n",
    "a[:100] # end大于列表长度时，取到列表长度截止\n",
    "a[100:] # start大于列表长度时，返回空列表"
   ]
  },
  {
   "cell_type": "code",
   "execution_count": 9,
   "metadata": {},
   "outputs": [
    {
     "name": "stdout",
     "output_type": "stream",
     "text": [
      "[-2, -1, 0, 4, 1, 2, 3, 4, 5, 6, 7, 8, 9, 10]\n"
     ]
    }
   ],
   "source": [
    "# 赋值操作\n",
    "a[len(a):] = [10]  # 在数组尾部增加元素\n",
    "a[:0] = [-2, -1] # 在数组开头增加元素\n",
    "a[3:3] = [4] # 在3这个位置插入元素\n",
    "print(a)"
   ]
  },
  {
   "cell_type": "code",
   "execution_count": 10,
   "metadata": {},
   "outputs": [
    {
     "name": "stdout",
     "output_type": "stream",
     "text": [
      "[1, 2, 3, 4, 4, 1, 2, 3, 4, 5, 6, 7, 8, 9, 10]\n"
     ]
    }
   ],
   "source": [
    "a[:3] = [1, 2, 3, 4]  # 元素替换，等号两边可相等可不相等\n",
    "print(a)"
   ]
  },
  {
   "cell_type": "code",
   "execution_count": 11,
   "metadata": {},
   "outputs": [
    {
     "name": "stdout",
     "output_type": "stream",
     "text": [
      "[1, 2, 3, 1, 2, 3, 4]\n"
     ]
    }
   ],
   "source": [
    "a[3:] = [1, 2, 3, 4]\n",
    "print(a)"
   ]
  },
  {
   "cell_type": "code",
   "execution_count": 12,
   "metadata": {},
   "outputs": [
    {
     "name": "stdout",
     "output_type": "stream",
     "text": [
      "[0, 2, 0, 1, 0, 3, 0]\n"
     ]
    }
   ],
   "source": [
    "a[::2] = [0] * 4  #[0]*4 --> [0, 0, 0, 0]  两边长度必须相等\n",
    "print(a)"
   ]
  },
  {
   "cell_type": "code",
   "execution_count": 13,
   "metadata": {},
   "outputs": [
    {
     "name": "stdout",
     "output_type": "stream",
     "text": [
      "[]\n"
     ]
    }
   ],
   "source": [
    "a[:3] = [] # 删除\n",
    "del a[::2]\n",
    "del a[:3]\n",
    "print(a)"
   ]
  },
  {
   "cell_type": "code",
   "execution_count": 14,
   "metadata": {},
   "outputs": [],
   "source": [
    "import numbers\n",
    "class Group:\n",
    "    def __init__(self, group_name, company_name, staffs):\n",
    "        self.group_name = group_name\n",
    "        self.company_name = company_name\n",
    "        self.staffs = staffs\n",
    "    \n",
    "    def __reversed__(self):\n",
    "        self.staffs.reverse()\n",
    "    \n",
    "    def __getitem__(self, item):   # 实现切片的关键\n",
    "        # 切片时，调用__getitem__传进来的参数是slice类型的对象，使用此对象进行切片操作\n",
    "        # 取元素时，调用__getitem__传进来的参数是int类型的对象\n",
    "        \n",
    "        cls = type(self)\n",
    "        if isinstance(item, slice):\n",
    "            print('n')\n",
    "            return cls(group_name=self.group_name, company_name=self.company_name, staffs = self.staffs[item])\n",
    "        elif isinstance(item, numbers.Integral):\n",
    "            return cls(group_name=self.group_name, company_name=self.company_name, staffs = [self.staffs[item]])\n",
    "            \n",
    "    \n",
    "    def __len__(self):\n",
    "        return len(self.staffs)\n",
    "    \n",
    "    def __iter__(self):\n",
    "        return iter(self.staffs)\n",
    "    \n",
    "    def __contains__(self, item):\n",
    "        if item in self.staffs:\n",
    "            return True\n",
    "        else:\n",
    "            return False\n",
    "    \n",
    "    def __str__(self):\n",
    "        return str(self.staffs)\n",
    "    \n",
    "\n",
    "    \n",
    "    \n",
    "    "
   ]
  },
  {
   "cell_type": "code",
   "execution_count": 15,
   "metadata": {},
   "outputs": [
    {
     "name": "stdout",
     "output_type": "stream",
     "text": [
      "n\n",
      "<class '__main__.Group'>\n",
      "['cat']\n"
     ]
    }
   ],
   "source": [
    "staffs = [\"dog\", \"cat\", \"duck\"]\n",
    "group = Group(company_name = 'c',group_name = 'g',staffs = staffs)\n",
    "print(type(group[:1]))\n",
    "print(group[1])"
   ]
  },
  {
   "cell_type": "markdown",
   "metadata": {},
   "source": [
    "## 5.5、bisect"
   ]
  },
  {
   "cell_type": "code",
   "execution_count": 16,
   "metadata": {},
   "outputs": [],
   "source": [
    "import bisect # 用于处理、维持已排序的序列（list，deque等），升序"
   ]
  },
  {
   "cell_type": "code",
   "execution_count": 18,
   "metadata": {},
   "outputs": [],
   "source": [
    "inter_list = []\n",
    "bisect.insort(inter_list, 3)\n",
    "bisect.insort(inter_list, 1)\n",
    "bisect.insort(inter_list, 2)\n",
    "bisect.insort(inter_list, 5)\n",
    "bisect.insort(inter_list, 4)"
   ]
  },
  {
   "cell_type": "code",
   "execution_count": 19,
   "metadata": {},
   "outputs": [
    {
     "name": "stdout",
     "output_type": "stream",
     "text": [
      "[1, 2, 3, 4, 5]\n"
     ]
    }
   ],
   "source": [
    "print(inter_list)   "
   ]
  },
  {
   "cell_type": "markdown",
   "metadata": {},
   "source": [
    "项目中遇到需要维护有序数组时，插入完再排序效率非常低，\n",
    "\n",
    "此时应使用bisect维护序列，并在插入数据时使用bisect的insort方法"
   ]
  },
  {
   "cell_type": "code",
   "execution_count": 23,
   "metadata": {},
   "outputs": [
    {
     "name": "stdout",
     "output_type": "stream",
     "text": [
      "3\n",
      "2\n"
     ]
    }
   ],
   "source": [
    "print(bisect.bisect(inter_list, 3))   # 返回此元素应该插入的位置，有相同大小元素则取右\n",
    "print(bisect.bisect_left(inter_list, 3))  # 取左    这两个方法用于查找，查看元素位置"
   ]
  },
  {
   "cell_type": "code",
   "execution_count": 22,
   "metadata": {},
   "outputs": [
    {
     "name": "stdout",
     "output_type": "stream",
     "text": [
      "[1, 2, 3, 4, 5]\n"
     ]
    }
   ],
   "source": [
    "print(inter_list)  "
   ]
  },
  {
   "cell_type": "markdown",
   "metadata": {},
   "source": [
    "## 5.6、何时不使用列表"
   ]
  },
  {
   "cell_type": "code",
   "execution_count": 24,
   "metadata": {},
   "outputs": [],
   "source": [
    "# array(数组，连续内存空间，某些操作比list效率高), deque\n",
    "\n",
    "import array\n",
    "# 注意：一个与list的主要区别，array必须指定类型，array只能存储此类型的数据"
   ]
  },
  {
   "cell_type": "code",
   "execution_count": 25,
   "metadata": {},
   "outputs": [],
   "source": [
    "array1 = array.array('i')  # 定义一个只接受int类型的array"
   ]
  },
  {
   "cell_type": "markdown",
   "metadata": {},
   "source": [
    "## 5.7、列表推导式，生成器表达式，字典推导式"
   ]
  },
  {
   "cell_type": "code",
   "execution_count": 26,
   "metadata": {},
   "outputs": [
    {
     "name": "stdout",
     "output_type": "stream",
     "text": [
      "[1, 3, 5, 7, 9, 11, 13, 15, 17, 19]\n"
     ]
    }
   ],
   "source": [
    "# 列表推导式\n",
    "# 1、提取出1-20之间的奇数\n",
    "odd_list = [i for i in range(21) if i%2 != 0]  # 也可以操作i\n",
    "print(odd_list)\n",
    "# 列表生成式性能高于列表操作"
   ]
  },
  {
   "cell_type": "code",
   "execution_count": 27,
   "metadata": {},
   "outputs": [],
   "source": [
    "# 生成器表达式\n",
    "generator = (i for i in range(21) if i%2 != 0)"
   ]
  },
  {
   "cell_type": "code",
   "execution_count": 28,
   "metadata": {},
   "outputs": [],
   "source": [
    "# 生成器转list\n",
    "odd_list1 = list(generator)  # list的构造函数是基于一个可迭代的对象的"
   ]
  },
  {
   "cell_type": "code",
   "execution_count": 29,
   "metadata": {},
   "outputs": [
    {
     "name": "stdout",
     "output_type": "stream",
     "text": [
      "{4: 'a', 5: 'b'}\n"
     ]
    }
   ],
   "source": [
    "my_dict = {\"a\":4,\"b\":5}\n",
    "# 需要：颠倒k和v\n",
    "reversed_dict = {value:key for key,value in my_dict.items()}\n",
    "print(reversed_dict)"
   ]
  },
  {
   "cell_type": "code",
   "execution_count": 30,
   "metadata": {},
   "outputs": [
    {
     "name": "stdout",
     "output_type": "stream",
     "text": [
      "{'a', 'b'}\n"
     ]
    }
   ],
   "source": [
    "# 集合推导式\n",
    "my_set = {key for key,value in my_dict.items()}\n",
    "print(my_set)"
   ]
  },
  {
   "cell_type": "code",
   "execution_count": null,
   "metadata": {},
   "outputs": [],
   "source": []
  },
  {
   "cell_type": "code",
   "execution_count": null,
   "metadata": {},
   "outputs": [],
   "source": []
  },
  {
   "cell_type": "code",
   "execution_count": null,
   "metadata": {},
   "outputs": [],
   "source": []
  },
  {
   "cell_type": "code",
   "execution_count": null,
   "metadata": {},
   "outputs": [],
   "source": []
  },
  {
   "cell_type": "code",
   "execution_count": null,
   "metadata": {},
   "outputs": [],
   "source": []
  },
  {
   "cell_type": "code",
   "execution_count": null,
   "metadata": {},
   "outputs": [],
   "source": []
  },
  {
   "cell_type": "code",
   "execution_count": null,
   "metadata": {},
   "outputs": [],
   "source": []
  },
  {
   "cell_type": "code",
   "execution_count": null,
   "metadata": {},
   "outputs": [],
   "source": []
  },
  {
   "cell_type": "code",
   "execution_count": null,
   "metadata": {},
   "outputs": [],
   "source": []
  }
 ],
 "metadata": {
  "kernelspec": {
   "display_name": "a3c",
   "language": "python",
   "name": "env_for_a3c"
  },
  "language_info": {
   "codemirror_mode": {
    "name": "ipython",
    "version": 3
   },
   "file_extension": ".py",
   "mimetype": "text/x-python",
   "name": "python",
   "nbconvert_exporter": "python",
   "pygments_lexer": "ipython3",
   "version": "3.6.3"
  }
 },
 "nbformat": 4,
 "nbformat_minor": 2
}
