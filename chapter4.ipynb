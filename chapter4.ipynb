{
 "cells": [
  {
   "cell_type": "markdown",
   "metadata": {},
   "source": [
    "# 第四章：深入类和对象"
   ]
  },
  {
   "cell_type": "markdown",
   "metadata": {},
   "source": [
    "## 1、鸭子类型和多态"
   ]
  },
  {
   "cell_type": "code",
   "execution_count": 1,
   "metadata": {},
   "outputs": [
    {
     "name": "stdout",
     "output_type": "stream",
     "text": [
      "I am a cat\n"
     ]
    }
   ],
   "source": [
    "class Cat(object):\n",
    "    def say(self):\n",
    "        print(\"I am a cat\")\n",
    "        \n",
    "        \n",
    "class Dog(object):\n",
    "    def say(self):\n",
    "        print(\"I am a dog\")\n",
    "        \n",
    "class Duck(object):\n",
    "    def say(self):\n",
    "        print(\"I am a duck\")\n",
    "        \n",
    "        \n",
    "animal = Cat()\n",
    "animal.say()"
   ]
  },
  {
   "cell_type": "code",
   "execution_count": 2,
   "metadata": {},
   "outputs": [
    {
     "name": "stdout",
     "output_type": "stream",
     "text": [
      "I am a cat\n",
      "I am a dog\n",
      "I am a duck\n"
     ]
    }
   ],
   "source": [
    "#java 多态时，定义是父类，声明是子类\n",
    "#python 不需要定义变量，是动态变量，可以指向任何一个类型\n",
    "animal_list = [Cat, Dog, Duck]\n",
    "for animal in animal_list:\n",
    "    animal().say()"
   ]
  },
  {
   "cell_type": "markdown",
   "metadata": {},
   "source": [
    "python 中实现多态，只需具备相同方法名即可，无需继承与重写"
   ]
  },
  {
   "cell_type": "code",
   "execution_count": 3,
   "metadata": {},
   "outputs": [
    {
     "name": "stdout",
     "output_type": "stream",
     "text": [
      "Help on built-in function extend:\n",
      "\n",
      "extend(...) method of builtins.list instance\n",
      "    L.extend(iterable) -> None -- extend list by appending elements from the iterable\n",
      "\n"
     ]
    }
   ],
   "source": [
    "a = []\n",
    "help(a.extend)"
   ]
  },
  {
   "cell_type": "markdown",
   "metadata": {},
   "source": [
    "python中很多时候未规定必须使用哪个类的数据，而是规定了那个数据类型\n",
    "\n",
    "如list的extend函数，规定参数是可迭代类型的，而非规定必须是哪一类或者哪几类\n",
    "\n",
    "而class，def类的对象统一被定义为可调用类型\n",
    "\n",
    "不同语法使用，对应python中不同数据类型"
   ]
  },
  {
   "cell_type": "markdown",
   "metadata": {},
   "source": [
    "————————————————————————————————————————————————————————"
   ]
  },
  {
   "cell_type": "markdown",
   "metadata": {},
   "source": [
    "python 鸭子类型：当看到一只鸟走起来像鸭子、游泳起来像鸭子、叫起来也像鸭子，那么这只鸟就可以被称为鸭子。\n",
    "\n",
    "在鸭子类型中，关注的不是对象的类型本身，而是它是如何使用的。\n",
    "\n",
    "类型具备的方法，影响了他是如何被使用的，从而决定了其是什么类型。\n",
    "\n",
    "类型实现了某些方法，它就具备了某些特性，从而决定了这个类的数据类型\n",
    "\n",
    "python中，赋予类一些特性，实现相应方法即可，无需继承一些接口"
   ]
  },
  {
   "cell_type": "markdown",
   "metadata": {},
   "source": [
    "## 2、抽象基类（abc模块）（java接口）"
   ]
  },
  {
   "cell_type": "markdown",
   "metadata": {},
   "source": [
    "python中，变量只是一个符号而已，是一个可以指向任何类型的对象\n",
    "\n",
    "抽象基类无法被实例化，它拥有一些方法，而他的所有子类均需实现这些方法\n",
    "\n",
    "既然有鸭子类型这一特点，为什么还用抽象基类呢？"
   ]
  },
  {
   "cell_type": "code",
   "execution_count": 4,
   "metadata": {},
   "outputs": [
    {
     "name": "stdout",
     "output_type": "stream",
     "text": [
      "True\n"
     ]
    }
   ],
   "source": [
    "class Company(object):\n",
    "    def __init__(self, employeeList):\n",
    "        self.employee = employeeList\n",
    "    \n",
    "    def __getitem__(self, index):\n",
    "        return self.employee[index]\n",
    "    \n",
    "    def __len__(self):\n",
    "        return len(self.employee)\n",
    "com = Company(['a', 'b'])\n",
    "print(hasattr(com, \"__len__\"))"
   ]
  },
  {
   "cell_type": "markdown",
   "metadata": {},
   "source": [
    "如果没有抽象基类，当判断某一类是否是某一类型时，会很麻烦（使用hasattr）"
   ]
  },
  {
   "cell_type": "code",
   "execution_count": 5,
   "metadata": {},
   "outputs": [
    {
     "data": {
      "text/plain": [
       "True"
      ]
     },
     "execution_count": 5,
     "metadata": {},
     "output_type": "execute_result"
    }
   ],
   "source": [
    "from collections.abc import Sized\n",
    "isinstance(com, Sized)  #Sized中，实现了抽象函数__len__，可用于判定实现了__len__函数的类"
   ]
  },
  {
   "cell_type": "markdown",
   "metadata": {},
   "source": [
    "有时候，我们必须强制某些类型必须实现了某些方法"
   ]
  },
  {
   "cell_type": "code",
   "execution_count": 6,
   "metadata": {},
   "outputs": [
    {
     "ename": "NotImplementedError",
     "evalue": "",
     "output_type": "error",
     "traceback": [
      "\u001b[0;31m---------------------------------------------------------------------------\u001b[0m",
      "\u001b[0;31mNotImplementedError\u001b[0m                       Traceback (most recent call last)",
      "\u001b[0;32m<ipython-input-6-e843e7b0e731>\u001b[0m in \u001b[0;36m<module>\u001b[0;34m()\u001b[0m\n\u001b[1;32m     10\u001b[0m \u001b[0;34m\u001b[0m\u001b[0m\n\u001b[1;32m     11\u001b[0m \u001b[0macs\u001b[0m \u001b[0;34m=\u001b[0m \u001b[0mac\u001b[0m\u001b[0;34m(\u001b[0m\u001b[0;34m)\u001b[0m\u001b[0;34m\u001b[0m\u001b[0m\n\u001b[0;32m---> 12\u001b[0;31m \u001b[0macs\u001b[0m\u001b[0;34m.\u001b[0m\u001b[0mset\u001b[0m\u001b[0;34m(\u001b[0m\u001b[0;34m'a'\u001b[0m\u001b[0;34m)\u001b[0m\u001b[0;34m\u001b[0m\u001b[0m\n\u001b[0m",
      "\u001b[0;32m<ipython-input-6-e843e7b0e731>\u001b[0m in \u001b[0;36mset\u001b[0;34m(self, key)\u001b[0m\n\u001b[1;32m      1\u001b[0m \u001b[0;32mclass\u001b[0m \u001b[0mC\u001b[0m\u001b[0;34m(\u001b[0m\u001b[0;34m)\u001b[0m\u001b[0;34m:\u001b[0m\u001b[0;34m\u001b[0m\u001b[0m\n\u001b[1;32m      2\u001b[0m     \u001b[0;32mdef\u001b[0m \u001b[0mset\u001b[0m\u001b[0;34m(\u001b[0m\u001b[0mself\u001b[0m\u001b[0;34m,\u001b[0m \u001b[0mkey\u001b[0m\u001b[0;34m)\u001b[0m\u001b[0;34m:\u001b[0m\u001b[0;34m\u001b[0m\u001b[0m\n\u001b[0;32m----> 3\u001b[0;31m         \u001b[0;32mraise\u001b[0m \u001b[0mNotImplementedError\u001b[0m  \u001b[0;31m# 用这种方法可以实现基类，但是需要调用方法的时候才会抛异常\u001b[0m\u001b[0;34m\u001b[0m\u001b[0m\n\u001b[0m\u001b[1;32m      4\u001b[0m     \u001b[0;32mdef\u001b[0m \u001b[0mget\u001b[0m\u001b[0;34m(\u001b[0m\u001b[0mself\u001b[0m\u001b[0;34m,\u001b[0m \u001b[0mkey\u001b[0m\u001b[0;34m,\u001b[0m \u001b[0mvalue\u001b[0m\u001b[0;34m)\u001b[0m\u001b[0;34m:\u001b[0m\u001b[0;34m\u001b[0m\u001b[0m\n\u001b[1;32m      5\u001b[0m         \u001b[0;32mpass\u001b[0m\u001b[0;34m\u001b[0m\u001b[0m\n",
      "\u001b[0;31mNotImplementedError\u001b[0m: "
     ]
    }
   ],
   "source": [
    "class C():\n",
    "    def set(self, key):\n",
    "        raise NotImplementedError  # 用这种方法可以实现基类，但是需要调用方法的时候才会抛异常\n",
    "    def get(self, key, value):\n",
    "        pass\n",
    "    \n",
    "class ac(C):\n",
    "    pass\n",
    "\n",
    "    \n",
    "acs = ac()\n",
    "acs.set('a')"
   ]
  },
  {
   "cell_type": "code",
   "execution_count": 7,
   "metadata": {},
   "outputs": [
    {
     "ename": "TypeError",
     "evalue": "Can't instantiate abstract class ac with abstract methods get, set",
     "output_type": "error",
     "traceback": [
      "\u001b[0;31m---------------------------------------------------------------------------\u001b[0m",
      "\u001b[0;31mTypeError\u001b[0m                                 Traceback (most recent call last)",
      "\u001b[0;32m<ipython-input-7-0b0a6f8e985f>\u001b[0m in \u001b[0;36m<module>\u001b[0;34m()\u001b[0m\n\u001b[1;32m     11\u001b[0m     \u001b[0;32mpass\u001b[0m\u001b[0;34m\u001b[0m\u001b[0m\n\u001b[1;32m     12\u001b[0m \u001b[0;34m\u001b[0m\u001b[0m\n\u001b[0;32m---> 13\u001b[0;31m \u001b[0macs\u001b[0m \u001b[0;34m=\u001b[0m \u001b[0mac\u001b[0m\u001b[0;34m(\u001b[0m\u001b[0;34m)\u001b[0m\u001b[0;34m\u001b[0m\u001b[0m\n\u001b[0m",
      "\u001b[0;31mTypeError\u001b[0m: Can't instantiate abstract class ac with abstract methods get, set"
     ]
    }
   ],
   "source": [
    "import abc\n",
    "class C(metaclass = abc.ABCMeta): # 用这种方法可以实现基类，初始化的时候就会抛异常\n",
    "    @abc.abstractmethod\n",
    "    def set(self, key):\n",
    "        pass\n",
    "    @abc.abstractmethod\n",
    "    def get(self, key, value):\n",
    "        pass\n",
    "\n",
    "class ac(C):\n",
    "    pass\n",
    "\n",
    "acs = ac()\n"
   ]
  },
  {
   "cell_type": "code",
   "execution_count": 8,
   "metadata": {},
   "outputs": [
    {
     "data": {
      "text/plain": [
       "True"
      ]
     },
     "execution_count": 8,
     "metadata": {},
     "output_type": "execute_result"
    }
   ],
   "source": [
    "class C():\n",
    "    def set(self, key):\n",
    "        raise NotImplementedError  \n",
    "    def get(self, key, value):\n",
    "        pass\n",
    "    \n",
    "class ac(C):\n",
    "    pass\n",
    "\n",
    "    \n",
    "acs = ac()\n",
    "isinstance(acs, C) #isinstance也会去判断继承链"
   ]
  },
  {
   "cell_type": "markdown",
   "metadata": {},
   "source": [
    "python中抽象基类最大的作用是去约束子类必须具备的函数\n",
    "\n",
    "python纯粹地是功能决定类的特性，而非继承决定类的特性\n",
    "\n",
    "————————————————————————————————————————————\n",
    "\n",
    "python框架中，对abc模块运用很少，尽量利用鸭子类型，不要使用抽象基类"
   ]
  },
  {
   "cell_type": "markdown",
   "metadata": {},
   "source": [
    "## 3、多用isinstance 而少用 type (..) is ..."
   ]
  },
  {
   "cell_type": "markdown",
   "metadata": {},
   "source": [
    "## 4、类变量和实例变量"
   ]
  },
  {
   "cell_type": "code",
   "execution_count": 7,
   "metadata": {},
   "outputs": [
    {
     "name": "stdout",
     "output_type": "stream",
     "text": [
      "1\n",
      "1 2\n"
     ]
    }
   ],
   "source": [
    "class A:\n",
    "    aa = 1                              # aa属于A\n",
    "    def __init__(self, x, y):\n",
    "        self.x = x\n",
    "        self.y = y                       # x， y属于self\n",
    "\n",
    "a = A(2,3)\n",
    "print(A.aa)\n",
    "print(a.aa,a.x)   # a调用aa时，首先会检索a对象有无aa属性，没有的话，向上检索a所在的类有没有此类变量\n"
   ]
  },
  {
   "cell_type": "code",
   "execution_count": 8,
   "metadata": {},
   "outputs": [
    {
     "ename": "AttributeError",
     "evalue": "type object 'A' has no attribute 'x'",
     "output_type": "error",
     "traceback": [
      "\u001b[0;31m---------------------------------------------------------------------------\u001b[0m",
      "\u001b[0;31mAttributeError\u001b[0m                            Traceback (most recent call last)",
      "\u001b[0;32m<ipython-input-8-01f2c5e8c37f>\u001b[0m in \u001b[0;36m<module>\u001b[0;34m()\u001b[0m\n\u001b[0;32m----> 1\u001b[0;31m \u001b[0mprint\u001b[0m\u001b[0;34m(\u001b[0m\u001b[0mA\u001b[0m\u001b[0;34m.\u001b[0m\u001b[0mx\u001b[0m\u001b[0;34m)\u001b[0m        \u001b[0;31m#x,y 属于a的属性，用A调用会抛异常\u001b[0m\u001b[0;34m\u001b[0m\u001b[0m\n\u001b[0m",
      "\u001b[0;31mAttributeError\u001b[0m: type object 'A' has no attribute 'x'"
     ]
    }
   ],
   "source": [
    "print(A.x)        #x,y 属于a的属性，用A调用会抛异常"
   ]
  },
  {
   "cell_type": "code",
   "execution_count": 9,
   "metadata": {},
   "outputs": [
    {
     "name": "stdout",
     "output_type": "stream",
     "text": [
      "45\n",
      "1\n",
      "1\n",
      "45\n",
      "100\n",
      "100\n"
     ]
    }
   ],
   "source": [
    "a1 = A(4, 5)\n",
    "a2 = A(6, 7)\n",
    "a1.aa = 45               # 用实例调用类变量赋值，类变量会将此属性给此实例，复制后，实例.aa与类.aa不再是一个对象\n",
    "print(a1.aa)\n",
    "print(a2.aa)\n",
    "print(A.aa)\n",
    "A.aa = 100\n",
    "print(a1.aa)\n",
    "print(a2.aa)\n",
    "print(A.aa)"
   ]
  },
  {
   "cell_type": "markdown",
   "metadata": {},
   "source": [
    "总结：\n",
    "\n",
    "类属性与实例属性查找顺序：由下到上（实例对象——>类对象）\n",
    "\n",
    "由实例对象调用类变量且赋值后，实例对象会增加一个与此类变量同名的属性，此属性属于实例对象，且与原来的类变量为两个不同的对象"
   ]
  },
  {
   "cell_type": "markdown",
   "metadata": {},
   "source": [
    "## 5、类方法，静态方法和实例方法"
   ]
  },
  {
   "cell_type": "code",
   "execution_count": 12,
   "metadata": {},
   "outputs": [
    {
     "name": "stdout",
     "output_type": "stream",
     "text": [
      "2019/3/30\n"
     ]
    }
   ],
   "source": [
    "class Date:\n",
    "    \n",
    "    #构造函数\n",
    "    def __init__(self, year, month, day):\n",
    "        self.year = year\n",
    "        self.month = month\n",
    "        self.day = day\n",
    "        \n",
    "    def __str__(self):\n",
    "        return \"{year}/{month}/{day}\".format(year = self.year, month = self.month, day = self.day)\n",
    "    \n",
    "    # 通常定义的都是实例化方法\n",
    "    def tomorrow(self):\n",
    "        self.day += 1\n",
    "    \n",
    "\n",
    "new_day = Date(2019, 3, 30)\n",
    "print(new_day)"
   ]
  },
  {
   "cell_type": "code",
   "execution_count": 13,
   "metadata": {},
   "outputs": [
    {
     "name": "stdout",
     "output_type": "stream",
     "text": [
      "2019/3/31\n"
     ]
    }
   ],
   "source": [
    "new_day.tomorrow()   # 实例调用实例化方法时，会将代码自动转化为 tomorrow（new_day）\n",
    "print(new_day)"
   ]
  },
  {
   "cell_type": "markdown",
   "metadata": {},
   "source": [
    "问：如何使函数修改类变量？\n",
    "\n",
    "答：函数中：Data.类变量 = ...\n",
    "\n",
    "注意：self.类变量 = ...是给实例添加了一个属性，原来的类变量不会做出任何改变！！！"
   ]
  },
  {
   "cell_type": "code",
   "execution_count": 15,
   "metadata": {},
   "outputs": [
    {
     "name": "stdout",
     "output_type": "stream",
     "text": [
      "2018/3/30\n"
     ]
    }
   ],
   "source": [
    "# 2019-3-30\n",
    "data_str = \"2018-3-30\"\n",
    "year, month, day = tuple(data_str.split('-'))    #tuple可以用于拆包\n",
    "new_day1 = Date(year, month, day)\n",
    "print(new_day1)"
   ]
  },
  {
   "cell_type": "code",
   "execution_count": 19,
   "metadata": {},
   "outputs": [
    {
     "name": "stdout",
     "output_type": "stream",
     "text": [
      "2018/3/30\n"
     ]
    }
   ],
   "source": [
    "class Date:\n",
    "    \n",
    "    #构造函数\n",
    "    def __init__(self, year, month, day):\n",
    "        self.year = year\n",
    "        self.month = month\n",
    "        self.day = day\n",
    "        \n",
    "    def __str__(self):\n",
    "        return \"{year}/{month}/{day}\".format(year = self.year, month = self.month, day = self.day)\n",
    "    \n",
    "    # 通常定义的都是实例化方法\n",
    "    def tomorrow(self):\n",
    "        self.day += 1\n",
    "    \n",
    "    #静态方法不需要传self，其用法与普通方法一致；调用此函数须使用Data调：Data.pare_from_str(str)\n",
    "    @staticmethod\n",
    "    def parse_from_str(str):\n",
    "        year, month, day = tuple(str.split('-'))\n",
    "        return Date(int(year), int(month), int(day))   # 此处会用到硬编码，所以引入类方法\n",
    "    \n",
    "    @classmethod\n",
    "    def from_str(cls, str):\n",
    "        year, month, day = tuple(str.split('-'))\n",
    "        return cls(int(year), int(month), int(day))   # 此处可用cls处理\n",
    "    \n",
    "new_day2 = Date.parse_from_str(data_str)\n",
    "print(new_day2)"
   ]
  },
  {
   "cell_type": "code",
   "execution_count": 20,
   "metadata": {},
   "outputs": [
    {
     "name": "stdout",
     "output_type": "stream",
     "text": [
      "2018/3/30\n"
     ]
    }
   ],
   "source": [
    "new_day2 = Date.from_str(data_str)\n",
    "print(new_day2)"
   ]
  },
  {
   "cell_type": "markdown",
   "metadata": {},
   "source": [
    "总结：\n",
    "\n",
    "一般的方法使用实例化方法即可\n",
    "\n",
    "不对实例对象本身做修改的方法可定义成类方法或实例化方法\n",
    "\n",
    "其中，需要对类做操作的，可以定义为类方法，不需要对类做操作的，可以定义为静态方法"
   ]
  },
  {
   "cell_type": "markdown",
   "metadata": {},
   "source": [
    "## 6、数据封装与私有属性"
   ]
  },
  {
   "cell_type": "code",
   "execution_count": 25,
   "metadata": {},
   "outputs": [
    {
     "name": "stdout",
     "output_type": "stream",
     "text": [
      "22\n",
      "1996/7/22\n"
     ]
    }
   ],
   "source": [
    "class User:\n",
    "    \n",
    "    def __init__(self, brithday):\n",
    "        self.brithday = brithday\n",
    "        \n",
    "    def get_age(self):\n",
    "        return 2018 - int(self.brithday.year)\n",
    "    \n",
    "user = User(Date(1996, 7, 22))\n",
    "print(user.get_age())\n",
    "print(user.brithday)"
   ]
  },
  {
   "cell_type": "code",
   "execution_count": 29,
   "metadata": {},
   "outputs": [
    {
     "name": "stdout",
     "output_type": "stream",
     "text": [
      "22\n",
      "1996/7/22\n"
     ]
    }
   ],
   "source": [
    "class User:\n",
    "    \n",
    "    def __init__(self, brithday):\n",
    "        self.__brithday = brithday      #self.__变量   可以变为私有属性\n",
    "                                        #self.__方法   可以变为私有方法\n",
    "    def get_age(self):\n",
    "        return 2018 - int(self.__brithday.year)\n",
    "    \n",
    "user = User(Date(1996, 7, 22))\n",
    "print(user.get_age())\n",
    "# print(user.brithday)  此处会报错\n",
    "print(user._User__brithday)             # __并不能完全封闭数据\n",
    "                                        #   前面加上当前class名字，这种机制可以隔绝父类子类数据"
   ]
  },
  {
   "cell_type": "markdown",
   "metadata": {},
   "source": [
    "python 无绝对的数据安全性"
   ]
  },
  {
   "cell_type": "markdown",
   "metadata": {},
   "source": [
    "## 7、python数据自省机制"
   ]
  },
  {
   "cell_type": "markdown",
   "metadata": {},
   "source": [
    "自省是指通过一定的机制查询到对象的内部结构"
   ]
  },
  {
   "cell_type": "code",
   "execution_count": 33,
   "metadata": {},
   "outputs": [
    {
     "name": "stdout",
     "output_type": "stream",
     "text": [
      "{'school': 'JLU'}\n"
     ]
    }
   ],
   "source": [
    "class Person:\n",
    "    \"\"\"\n",
    "    a person hahaha\n",
    "    \"\"\"\n",
    "    name = 'a'\n",
    "\n",
    "class Student(Person):\n",
    "    def __init__(self, str):\n",
    "        self.school = str\n",
    "\n",
    "s = Student(\"JLU\")\n",
    "\n",
    "#可以用__dict__查询类的属性\n",
    "print(s.__dict__)"
   ]
  },
  {
   "cell_type": "code",
   "execution_count": 34,
   "metadata": {},
   "outputs": [
    {
     "name": "stdout",
     "output_type": "stream",
     "text": [
      "a\n",
      "{'school': 'JLU'}\n",
      "b\n",
      "{'school': 'JLU', 'name': 'b'}\n",
      "a\n"
     ]
    }
   ],
   "source": [
    "# name属性 属于Person，不属于Student，所以s.__dict__查询不到此属性\n",
    "# 但是，s调用name却可以调用的到，这是因为python的向上查找机制\n",
    "# 同理，对父类属性进行写操作后，子类对象会获得一个新属性，且此属性与父类属性为两个不同的对象\n",
    "print(s.name)\n",
    "print(s.__dict__)\n",
    "s.name = 'b'\n",
    "print(s.name)\n",
    "print(s.__dict__)\n",
    "print(Person.name)"
   ]
  },
  {
   "cell_type": "code",
   "execution_count": 35,
   "metadata": {},
   "outputs": [
    {
     "name": "stdout",
     "output_type": "stream",
     "text": [
      "{'__module__': '__main__', '__doc__': '\\n    a person hahaha\\n    ', 'name': 'a', '__dict__': <attribute '__dict__' of 'Person' objects>, '__weakref__': <attribute '__weakref__' of 'Person' objects>}\n"
     ]
    }
   ],
   "source": [
    "print(Person.__dict__)   #类的属性要比实例多一些"
   ]
  },
  {
   "cell_type": "code",
   "execution_count": 37,
   "metadata": {},
   "outputs": [
    {
     "name": "stdout",
     "output_type": "stream",
     "text": [
      "changchun\n"
     ]
    }
   ],
   "source": [
    "#dict也可以用于赋值\n",
    "s.__dict__[\"addr\"] = \"changchun\"\n",
    "print(s.addr)"
   ]
  },
  {
   "cell_type": "code",
   "execution_count": 38,
   "metadata": {},
   "outputs": [
    {
     "name": "stdout",
     "output_type": "stream",
     "text": [
      "['__class__', '__delattr__', '__dict__', '__dir__', '__doc__', '__eq__', '__format__', '__ge__', '__getattribute__', '__gt__', '__hash__', '__init__', '__init_subclass__', '__le__', '__lt__', '__module__', '__ne__', '__new__', '__reduce__', '__reduce_ex__', '__repr__', '__setattr__', '__sizeof__', '__str__', '__subclasshook__', '__weakref__', 'addr', 'name', 'school']\n"
     ]
    }
   ],
   "source": [
    "#dir(对象)可以列出对象的所有属性(无值)\n",
    "print(dir(s))"
   ]
  },
  {
   "cell_type": "code",
   "execution_count": 40,
   "metadata": {},
   "outputs": [
    {
     "name": "stdout",
     "output_type": "stream",
     "text": [
      "['__add__', '__class__', '__contains__', '__delattr__', '__delitem__', '__dir__', '__doc__', '__eq__', '__format__', '__ge__', '__getattribute__', '__getitem__', '__gt__', '__hash__', '__iadd__', '__imul__', '__init__', '__init_subclass__', '__iter__', '__le__', '__len__', '__lt__', '__mul__', '__ne__', '__new__', '__reduce__', '__reduce_ex__', '__repr__', '__reversed__', '__rmul__', '__setattr__', '__setitem__', '__sizeof__', '__str__', '__subclasshook__', 'append', 'clear', 'copy', 'count', 'extend', 'index', 'insert', 'pop', 'remove', 'reverse', 'sort']\n"
     ]
    }
   ],
   "source": [
    "#list没有定义__dict__\n",
    "lists = [1, 2, 3]\n",
    "# print(lists.__dict__) 报错哒\n",
    "print(dir(lists)) #可以用此方法查询list实现的魔法函数等等"
   ]
  },
  {
   "cell_type": "markdown",
   "metadata": {},
   "source": [
    "## 8、super函数 "
   ]
  },
  {
   "cell_type": "code",
   "execution_count": 44,
   "metadata": {},
   "outputs": [],
   "source": [
    "class A:\n",
    "    def __init__(self):\n",
    "        print(\"A\")\n",
    "        \n",
    "class B(A):\n",
    "    def __init__(self):\n",
    "        print(\"B\")\n",
    "        super().__init__()"
   ]
  },
  {
   "cell_type": "code",
   "execution_count": 45,
   "metadata": {},
   "outputs": [
    {
     "name": "stdout",
     "output_type": "stream",
     "text": [
      "B\n",
      "A\n"
     ]
    }
   ],
   "source": [
    "b = B()"
   ]
  },
  {
   "cell_type": "code",
   "execution_count": 48,
   "metadata": {},
   "outputs": [],
   "source": [
    "class C(A):\n",
    "    def __init__(self):\n",
    "        print(\"C\")\n",
    "        super().__init__()\n",
    "\n",
    "class D(B, C):\n",
    "    def __init__(self):\n",
    "        print(\"D\")\n",
    "        super().__init__()"
   ]
  },
  {
   "cell_type": "code",
   "execution_count": 50,
   "metadata": {},
   "outputs": [
    {
     "name": "stdout",
     "output_type": "stream",
     "text": [
      "D\n",
      "B\n",
      "C\n",
      "A\n",
      "(<class '__main__.D'>, <class '__main__.B'>, <class '__main__.C'>, <class '__main__.A'>, <class 'object'>)\n"
     ]
    }
   ],
   "source": [
    "d = D()               # super()并不是调用父类函数的意思，而是用过MRO算法调用下一个类的意思\n",
    "print(D.__mro__)"
   ]
  },
  {
   "cell_type": "markdown",
   "metadata": {},
   "source": [
    "## 9、mixin"
   ]
  },
  {
   "cell_type": "markdown",
   "metadata": {},
   "source": [
    "........................"
   ]
  },
  {
   "cell_type": "markdown",
   "metadata": {},
   "source": [
    "## 10、with语句（上下文管理器）"
   ]
  },
  {
   "cell_type": "code",
   "execution_count": 51,
   "metadata": {},
   "outputs": [
    {
     "name": "stdout",
     "output_type": "stream",
     "text": [
      "started\n",
      "keyerror!!!\n"
     ]
    }
   ],
   "source": [
    "# try——except——finally\n",
    "try:\n",
    "    print(\"started\")\n",
    "    raise KeyError            # 抛一个异常\n",
    "except KeyError as e:\n",
    "    print(\"keyerror!!!\")"
   ]
  },
  {
   "cell_type": "code",
   "execution_count": null,
   "metadata": {},
   "outputs": [],
   "source": [
    "try:\n",
    "    print(\"started\")\n",
    "    raise KeyError            # 抛一个异常\n",
    "except KeyError as e:\n",
    "    print(\"keyerror!!!\")\n",
    "else:\n",
    "    print(\"other error\")\n",
    "finally:\n",
    "    print(\"finally\")         # 如文件操作，finally后可以放f.close()\n",
    "                             # 资源释放常用"
   ]
  },
  {
   "cell_type": "code",
   "execution_count": 52,
   "metadata": {},
   "outputs": [
    {
     "name": "stdout",
     "output_type": "stream",
     "text": [
      "started\n",
      "keyerror!!!\n",
      "finally\n"
     ]
    },
    {
     "data": {
      "text/plain": [
       "4"
      ]
     },
     "execution_count": 52,
     "metadata": {},
     "output_type": "execute_result"
    }
   ],
   "source": [
    "def try_exp():\n",
    "    try:\n",
    "        print(\"started\")\n",
    "        raise KeyError            # 抛一个异常\n",
    "        return 1\n",
    "    except KeyError as e:\n",
    "        print(\"keyerror!!!\")\n",
    "        return 2\n",
    "    else:\n",
    "        print(\"other error\")\n",
    "        return 3\n",
    "    finally:\n",
    "        print(\"finally\") \n",
    "        return 4\n",
    "try_exp()     # 返回的是4"
   ]
  },
  {
   "cell_type": "code",
   "execution_count": 54,
   "metadata": {},
   "outputs": [
    {
     "name": "stdout",
     "output_type": "stream",
     "text": [
      "do something\n",
      "exit\n"
     ]
    }
   ],
   "source": [
    "# 实现两个魔法函数，使其满足上下文管理器协议\n",
    "class Sample:\n",
    "    def __enter__(self):\n",
    "        # 获取资源\n",
    "        return self\n",
    "    def __exit__(self, exc_type, exc_val, exc_tb):\n",
    "        #释放资源\n",
    "        print(\"exit\")\n",
    "    def do_something(self):\n",
    "        print(\"do something\")\n",
    "\n",
    "with Sample() as s:\n",
    "    s.do_something()  # 进入with时，调用enter，跳出with时，调用exit"
   ]
  },
  {
   "cell_type": "markdown",
   "metadata": {},
   "source": [
    "这种资源管理方式十分好用，需要熟练with语句的使用"
   ]
  },
  {
   "cell_type": "markdown",
   "metadata": {},
   "source": [
    "## 11、contextlib"
   ]
  },
  {
   "cell_type": "code",
   "execution_count": 56,
   "metadata": {},
   "outputs": [
    {
     "name": "stdout",
     "output_type": "stream",
     "text": [
      "file open\n",
      "file processing\n",
      "file end\n"
     ]
    }
   ],
   "source": [
    "import contextlib\n",
    "\n",
    "@contextlib.contextmanager\n",
    "def file_open(filename):\n",
    "    # 打开文件\n",
    "    print(\"file open\")      #相当于enter\n",
    "    yield {}\n",
    "    print(\"file end\")       #相当于exit\n",
    "\n",
    "with file_open(\"aaa.txt\") as f:\n",
    "    print(\"file processing\")"
   ]
  },
  {
   "cell_type": "code",
   "execution_count": null,
   "metadata": {},
   "outputs": [],
   "source": []
  },
  {
   "cell_type": "code",
   "execution_count": null,
   "metadata": {},
   "outputs": [],
   "source": []
  },
  {
   "cell_type": "code",
   "execution_count": null,
   "metadata": {},
   "outputs": [],
   "source": []
  },
  {
   "cell_type": "code",
   "execution_count": null,
   "metadata": {},
   "outputs": [],
   "source": []
  },
  {
   "cell_type": "code",
   "execution_count": null,
   "metadata": {},
   "outputs": [],
   "source": []
  },
  {
   "cell_type": "code",
   "execution_count": null,
   "metadata": {},
   "outputs": [],
   "source": []
  },
  {
   "cell_type": "code",
   "execution_count": null,
   "metadata": {},
   "outputs": [],
   "source": []
  },
  {
   "cell_type": "code",
   "execution_count": null,
   "metadata": {},
   "outputs": [],
   "source": []
  },
  {
   "cell_type": "code",
   "execution_count": null,
   "metadata": {},
   "outputs": [],
   "source": []
  },
  {
   "cell_type": "code",
   "execution_count": null,
   "metadata": {},
   "outputs": [],
   "source": []
  }
 ],
 "metadata": {
  "kernelspec": {
   "display_name": "a3c",
   "language": "python",
   "name": "env_for_a3c"
  },
  "language_info": {
   "codemirror_mode": {
    "name": "ipython",
    "version": 3
   },
   "file_extension": ".py",
   "mimetype": "text/x-python",
   "name": "python",
   "nbconvert_exporter": "python",
   "pygments_lexer": "ipython3",
   "version": "3.6.3"
  }
 },
 "nbformat": 4,
 "nbformat_minor": 2
}
